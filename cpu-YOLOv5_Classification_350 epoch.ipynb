{
  "nbformat": 4,
  "nbformat_minor": 0,
  "metadata": {
    "colab": {
      "provenance": [],
      "include_colab_link": true
    },
    "kernelspec": {
      "name": "python3",
      "display_name": "Python 3"
    },
    "language_info": {
      "name": "python"
    },
    "accelerator": "TPU",
    "gpuClass": "standard",
    "widgets": {
      "application/vnd.jupyter.widget-state+json": {
        "c00fcf0a78134a7286885cfb2bad52cd": {
          "model_module": "@jupyter-widgets/controls",
          "model_name": "HBoxModel",
          "model_module_version": "1.5.0",
          "state": {
            "_dom_classes": [],
            "_model_module": "@jupyter-widgets/controls",
            "_model_module_version": "1.5.0",
            "_model_name": "HBoxModel",
            "_view_count": null,
            "_view_module": "@jupyter-widgets/controls",
            "_view_module_version": "1.5.0",
            "_view_name": "HBoxView",
            "box_style": "",
            "children": [
              "IPY_MODEL_20f5dc97c5ba45e18974070670d73602",
              "IPY_MODEL_112d48898c024b64b1ed83ef9bfb30d1",
              "IPY_MODEL_22209c21fd17456391b78c604971dc58"
            ],
            "layout": "IPY_MODEL_b5b6f83f59634fd2a3ed0e780e6bf275"
          }
        },
        "20f5dc97c5ba45e18974070670d73602": {
          "model_module": "@jupyter-widgets/controls",
          "model_name": "HTMLModel",
          "model_module_version": "1.5.0",
          "state": {
            "_dom_classes": [],
            "_model_module": "@jupyter-widgets/controls",
            "_model_module_version": "1.5.0",
            "_model_name": "HTMLModel",
            "_view_count": null,
            "_view_module": "@jupyter-widgets/controls",
            "_view_module_version": "1.5.0",
            "_view_name": "HTMLView",
            "description": "",
            "description_tooltip": null,
            "layout": "IPY_MODEL_899572d98ce945f0980a062b51501c6f",
            "placeholder": "​",
            "style": "IPY_MODEL_05593676149945d69637911176dd3789",
            "value": "100%"
          }
        },
        "112d48898c024b64b1ed83ef9bfb30d1": {
          "model_module": "@jupyter-widgets/controls",
          "model_name": "FloatProgressModel",
          "model_module_version": "1.5.0",
          "state": {
            "_dom_classes": [],
            "_model_module": "@jupyter-widgets/controls",
            "_model_module_version": "1.5.0",
            "_model_name": "FloatProgressModel",
            "_view_count": null,
            "_view_module": "@jupyter-widgets/controls",
            "_view_module_version": "1.5.0",
            "_view_name": "ProgressView",
            "bar_style": "success",
            "description": "",
            "description_tooltip": null,
            "layout": "IPY_MODEL_f695f21c6dbf4dea84482de8fa468323",
            "max": 5103355,
            "min": 0,
            "orientation": "horizontal",
            "style": "IPY_MODEL_5f15872967224af8b7ff0c22437766cb",
            "value": 5103355
          }
        },
        "22209c21fd17456391b78c604971dc58": {
          "model_module": "@jupyter-widgets/controls",
          "model_name": "HTMLModel",
          "model_module_version": "1.5.0",
          "state": {
            "_dom_classes": [],
            "_model_module": "@jupyter-widgets/controls",
            "_model_module_version": "1.5.0",
            "_model_name": "HTMLModel",
            "_view_count": null,
            "_view_module": "@jupyter-widgets/controls",
            "_view_module_version": "1.5.0",
            "_view_name": "HTMLView",
            "description": "",
            "description_tooltip": null,
            "layout": "IPY_MODEL_8a7d9e9d2d3b4b03b265a9ee97e6213e",
            "placeholder": "​",
            "style": "IPY_MODEL_c5afb3b357da4e3ba47a83aa08bc499b",
            "value": " 4.87M/4.87M [00:00&lt;00:00, 31.2MB/s]"
          }
        },
        "b5b6f83f59634fd2a3ed0e780e6bf275": {
          "model_module": "@jupyter-widgets/base",
          "model_name": "LayoutModel",
          "model_module_version": "1.2.0",
          "state": {
            "_model_module": "@jupyter-widgets/base",
            "_model_module_version": "1.2.0",
            "_model_name": "LayoutModel",
            "_view_count": null,
            "_view_module": "@jupyter-widgets/base",
            "_view_module_version": "1.2.0",
            "_view_name": "LayoutView",
            "align_content": null,
            "align_items": null,
            "align_self": null,
            "border": null,
            "bottom": null,
            "display": null,
            "flex": null,
            "flex_flow": null,
            "grid_area": null,
            "grid_auto_columns": null,
            "grid_auto_flow": null,
            "grid_auto_rows": null,
            "grid_column": null,
            "grid_gap": null,
            "grid_row": null,
            "grid_template_areas": null,
            "grid_template_columns": null,
            "grid_template_rows": null,
            "height": null,
            "justify_content": null,
            "justify_items": null,
            "left": null,
            "margin": null,
            "max_height": null,
            "max_width": null,
            "min_height": null,
            "min_width": null,
            "object_fit": null,
            "object_position": null,
            "order": null,
            "overflow": null,
            "overflow_x": null,
            "overflow_y": null,
            "padding": null,
            "right": null,
            "top": null,
            "visibility": null,
            "width": null
          }
        },
        "899572d98ce945f0980a062b51501c6f": {
          "model_module": "@jupyter-widgets/base",
          "model_name": "LayoutModel",
          "model_module_version": "1.2.0",
          "state": {
            "_model_module": "@jupyter-widgets/base",
            "_model_module_version": "1.2.0",
            "_model_name": "LayoutModel",
            "_view_count": null,
            "_view_module": "@jupyter-widgets/base",
            "_view_module_version": "1.2.0",
            "_view_name": "LayoutView",
            "align_content": null,
            "align_items": null,
            "align_self": null,
            "border": null,
            "bottom": null,
            "display": null,
            "flex": null,
            "flex_flow": null,
            "grid_area": null,
            "grid_auto_columns": null,
            "grid_auto_flow": null,
            "grid_auto_rows": null,
            "grid_column": null,
            "grid_gap": null,
            "grid_row": null,
            "grid_template_areas": null,
            "grid_template_columns": null,
            "grid_template_rows": null,
            "height": null,
            "justify_content": null,
            "justify_items": null,
            "left": null,
            "margin": null,
            "max_height": null,
            "max_width": null,
            "min_height": null,
            "min_width": null,
            "object_fit": null,
            "object_position": null,
            "order": null,
            "overflow": null,
            "overflow_x": null,
            "overflow_y": null,
            "padding": null,
            "right": null,
            "top": null,
            "visibility": null,
            "width": null
          }
        },
        "05593676149945d69637911176dd3789": {
          "model_module": "@jupyter-widgets/controls",
          "model_name": "DescriptionStyleModel",
          "model_module_version": "1.5.0",
          "state": {
            "_model_module": "@jupyter-widgets/controls",
            "_model_module_version": "1.5.0",
            "_model_name": "DescriptionStyleModel",
            "_view_count": null,
            "_view_module": "@jupyter-widgets/base",
            "_view_module_version": "1.2.0",
            "_view_name": "StyleView",
            "description_width": ""
          }
        },
        "f695f21c6dbf4dea84482de8fa468323": {
          "model_module": "@jupyter-widgets/base",
          "model_name": "LayoutModel",
          "model_module_version": "1.2.0",
          "state": {
            "_model_module": "@jupyter-widgets/base",
            "_model_module_version": "1.2.0",
            "_model_name": "LayoutModel",
            "_view_count": null,
            "_view_module": "@jupyter-widgets/base",
            "_view_module_version": "1.2.0",
            "_view_name": "LayoutView",
            "align_content": null,
            "align_items": null,
            "align_self": null,
            "border": null,
            "bottom": null,
            "display": null,
            "flex": null,
            "flex_flow": null,
            "grid_area": null,
            "grid_auto_columns": null,
            "grid_auto_flow": null,
            "grid_auto_rows": null,
            "grid_column": null,
            "grid_gap": null,
            "grid_row": null,
            "grid_template_areas": null,
            "grid_template_columns": null,
            "grid_template_rows": null,
            "height": null,
            "justify_content": null,
            "justify_items": null,
            "left": null,
            "margin": null,
            "max_height": null,
            "max_width": null,
            "min_height": null,
            "min_width": null,
            "object_fit": null,
            "object_position": null,
            "order": null,
            "overflow": null,
            "overflow_x": null,
            "overflow_y": null,
            "padding": null,
            "right": null,
            "top": null,
            "visibility": null,
            "width": null
          }
        },
        "5f15872967224af8b7ff0c22437766cb": {
          "model_module": "@jupyter-widgets/controls",
          "model_name": "ProgressStyleModel",
          "model_module_version": "1.5.0",
          "state": {
            "_model_module": "@jupyter-widgets/controls",
            "_model_module_version": "1.5.0",
            "_model_name": "ProgressStyleModel",
            "_view_count": null,
            "_view_module": "@jupyter-widgets/base",
            "_view_module_version": "1.2.0",
            "_view_name": "StyleView",
            "bar_color": null,
            "description_width": ""
          }
        },
        "8a7d9e9d2d3b4b03b265a9ee97e6213e": {
          "model_module": "@jupyter-widgets/base",
          "model_name": "LayoutModel",
          "model_module_version": "1.2.0",
          "state": {
            "_model_module": "@jupyter-widgets/base",
            "_model_module_version": "1.2.0",
            "_model_name": "LayoutModel",
            "_view_count": null,
            "_view_module": "@jupyter-widgets/base",
            "_view_module_version": "1.2.0",
            "_view_name": "LayoutView",
            "align_content": null,
            "align_items": null,
            "align_self": null,
            "border": null,
            "bottom": null,
            "display": null,
            "flex": null,
            "flex_flow": null,
            "grid_area": null,
            "grid_auto_columns": null,
            "grid_auto_flow": null,
            "grid_auto_rows": null,
            "grid_column": null,
            "grid_gap": null,
            "grid_row": null,
            "grid_template_areas": null,
            "grid_template_columns": null,
            "grid_template_rows": null,
            "height": null,
            "justify_content": null,
            "justify_items": null,
            "left": null,
            "margin": null,
            "max_height": null,
            "max_width": null,
            "min_height": null,
            "min_width": null,
            "object_fit": null,
            "object_position": null,
            "order": null,
            "overflow": null,
            "overflow_x": null,
            "overflow_y": null,
            "padding": null,
            "right": null,
            "top": null,
            "visibility": null,
            "width": null
          }
        },
        "c5afb3b357da4e3ba47a83aa08bc499b": {
          "model_module": "@jupyter-widgets/controls",
          "model_name": "DescriptionStyleModel",
          "model_module_version": "1.5.0",
          "state": {
            "_model_module": "@jupyter-widgets/controls",
            "_model_module_version": "1.5.0",
            "_model_name": "DescriptionStyleModel",
            "_view_count": null,
            "_view_module": "@jupyter-widgets/base",
            "_view_module_version": "1.2.0",
            "_view_name": "StyleView",
            "description_width": ""
          }
        },
        "71532cbd739f4e24a077642a0ce02281": {
          "model_module": "@jupyter-widgets/controls",
          "model_name": "HBoxModel",
          "model_module_version": "1.5.0",
          "state": {
            "_dom_classes": [],
            "_model_module": "@jupyter-widgets/controls",
            "_model_module_version": "1.5.0",
            "_model_name": "HBoxModel",
            "_view_count": null,
            "_view_module": "@jupyter-widgets/controls",
            "_view_module_version": "1.5.0",
            "_view_name": "HBoxView",
            "box_style": "",
            "children": [
              "IPY_MODEL_80814bd00c2b4cecaf8363b1a55a2848",
              "IPY_MODEL_6d92ff50c1324759a0858ad61a2d3ca5",
              "IPY_MODEL_6f3faa25255d4f1cbb8db89c1923d54b"
            ],
            "layout": "IPY_MODEL_9df6b8d343f94113bcf6a39ab3480195"
          }
        },
        "80814bd00c2b4cecaf8363b1a55a2848": {
          "model_module": "@jupyter-widgets/controls",
          "model_name": "HTMLModel",
          "model_module_version": "1.5.0",
          "state": {
            "_dom_classes": [],
            "_model_module": "@jupyter-widgets/controls",
            "_model_module_version": "1.5.0",
            "_model_name": "HTMLModel",
            "_view_count": null,
            "_view_module": "@jupyter-widgets/controls",
            "_view_module_version": "1.5.0",
            "_view_name": "HTMLView",
            "description": "",
            "description_tooltip": null,
            "layout": "IPY_MODEL_0e3ec402f8e9470da5bff3cc7f4b6b42",
            "placeholder": "​",
            "style": "IPY_MODEL_6257af4cc6904ed384ad6944a6fdbbd4",
            "value": "100%"
          }
        },
        "6d92ff50c1324759a0858ad61a2d3ca5": {
          "model_module": "@jupyter-widgets/controls",
          "model_name": "FloatProgressModel",
          "model_module_version": "1.5.0",
          "state": {
            "_dom_classes": [],
            "_model_module": "@jupyter-widgets/controls",
            "_model_module_version": "1.5.0",
            "_model_name": "FloatProgressModel",
            "_view_count": null,
            "_view_module": "@jupyter-widgets/controls",
            "_view_module_version": "1.5.0",
            "_view_name": "ProgressView",
            "bar_style": "success",
            "description": "",
            "description_tooltip": null,
            "layout": "IPY_MODEL_de041e0786be44b0af33f6cc4850aea0",
            "max": 11034043,
            "min": 0,
            "orientation": "horizontal",
            "style": "IPY_MODEL_76ba546a440949ad820b8d65ad01691e",
            "value": 11034043
          }
        },
        "6f3faa25255d4f1cbb8db89c1923d54b": {
          "model_module": "@jupyter-widgets/controls",
          "model_name": "HTMLModel",
          "model_module_version": "1.5.0",
          "state": {
            "_dom_classes": [],
            "_model_module": "@jupyter-widgets/controls",
            "_model_module_version": "1.5.0",
            "_model_name": "HTMLModel",
            "_view_count": null,
            "_view_module": "@jupyter-widgets/controls",
            "_view_module_version": "1.5.0",
            "_view_name": "HTMLView",
            "description": "",
            "description_tooltip": null,
            "layout": "IPY_MODEL_da13b877d2e744669d073aee19242cd2",
            "placeholder": "​",
            "style": "IPY_MODEL_65e51db2acd344e8939e324f476e172b",
            "value": " 10.5M/10.5M [00:00&lt;00:00, 22.8MB/s]"
          }
        },
        "9df6b8d343f94113bcf6a39ab3480195": {
          "model_module": "@jupyter-widgets/base",
          "model_name": "LayoutModel",
          "model_module_version": "1.2.0",
          "state": {
            "_model_module": "@jupyter-widgets/base",
            "_model_module_version": "1.2.0",
            "_model_name": "LayoutModel",
            "_view_count": null,
            "_view_module": "@jupyter-widgets/base",
            "_view_module_version": "1.2.0",
            "_view_name": "LayoutView",
            "align_content": null,
            "align_items": null,
            "align_self": null,
            "border": null,
            "bottom": null,
            "display": null,
            "flex": null,
            "flex_flow": null,
            "grid_area": null,
            "grid_auto_columns": null,
            "grid_auto_flow": null,
            "grid_auto_rows": null,
            "grid_column": null,
            "grid_gap": null,
            "grid_row": null,
            "grid_template_areas": null,
            "grid_template_columns": null,
            "grid_template_rows": null,
            "height": null,
            "justify_content": null,
            "justify_items": null,
            "left": null,
            "margin": null,
            "max_height": null,
            "max_width": null,
            "min_height": null,
            "min_width": null,
            "object_fit": null,
            "object_position": null,
            "order": null,
            "overflow": null,
            "overflow_x": null,
            "overflow_y": null,
            "padding": null,
            "right": null,
            "top": null,
            "visibility": null,
            "width": null
          }
        },
        "0e3ec402f8e9470da5bff3cc7f4b6b42": {
          "model_module": "@jupyter-widgets/base",
          "model_name": "LayoutModel",
          "model_module_version": "1.2.0",
          "state": {
            "_model_module": "@jupyter-widgets/base",
            "_model_module_version": "1.2.0",
            "_model_name": "LayoutModel",
            "_view_count": null,
            "_view_module": "@jupyter-widgets/base",
            "_view_module_version": "1.2.0",
            "_view_name": "LayoutView",
            "align_content": null,
            "align_items": null,
            "align_self": null,
            "border": null,
            "bottom": null,
            "display": null,
            "flex": null,
            "flex_flow": null,
            "grid_area": null,
            "grid_auto_columns": null,
            "grid_auto_flow": null,
            "grid_auto_rows": null,
            "grid_column": null,
            "grid_gap": null,
            "grid_row": null,
            "grid_template_areas": null,
            "grid_template_columns": null,
            "grid_template_rows": null,
            "height": null,
            "justify_content": null,
            "justify_items": null,
            "left": null,
            "margin": null,
            "max_height": null,
            "max_width": null,
            "min_height": null,
            "min_width": null,
            "object_fit": null,
            "object_position": null,
            "order": null,
            "overflow": null,
            "overflow_x": null,
            "overflow_y": null,
            "padding": null,
            "right": null,
            "top": null,
            "visibility": null,
            "width": null
          }
        },
        "6257af4cc6904ed384ad6944a6fdbbd4": {
          "model_module": "@jupyter-widgets/controls",
          "model_name": "DescriptionStyleModel",
          "model_module_version": "1.5.0",
          "state": {
            "_model_module": "@jupyter-widgets/controls",
            "_model_module_version": "1.5.0",
            "_model_name": "DescriptionStyleModel",
            "_view_count": null,
            "_view_module": "@jupyter-widgets/base",
            "_view_module_version": "1.2.0",
            "_view_name": "StyleView",
            "description_width": ""
          }
        },
        "de041e0786be44b0af33f6cc4850aea0": {
          "model_module": "@jupyter-widgets/base",
          "model_name": "LayoutModel",
          "model_module_version": "1.2.0",
          "state": {
            "_model_module": "@jupyter-widgets/base",
            "_model_module_version": "1.2.0",
            "_model_name": "LayoutModel",
            "_view_count": null,
            "_view_module": "@jupyter-widgets/base",
            "_view_module_version": "1.2.0",
            "_view_name": "LayoutView",
            "align_content": null,
            "align_items": null,
            "align_self": null,
            "border": null,
            "bottom": null,
            "display": null,
            "flex": null,
            "flex_flow": null,
            "grid_area": null,
            "grid_auto_columns": null,
            "grid_auto_flow": null,
            "grid_auto_rows": null,
            "grid_column": null,
            "grid_gap": null,
            "grid_row": null,
            "grid_template_areas": null,
            "grid_template_columns": null,
            "grid_template_rows": null,
            "height": null,
            "justify_content": null,
            "justify_items": null,
            "left": null,
            "margin": null,
            "max_height": null,
            "max_width": null,
            "min_height": null,
            "min_width": null,
            "object_fit": null,
            "object_position": null,
            "order": null,
            "overflow": null,
            "overflow_x": null,
            "overflow_y": null,
            "padding": null,
            "right": null,
            "top": null,
            "visibility": null,
            "width": null
          }
        },
        "76ba546a440949ad820b8d65ad01691e": {
          "model_module": "@jupyter-widgets/controls",
          "model_name": "ProgressStyleModel",
          "model_module_version": "1.5.0",
          "state": {
            "_model_module": "@jupyter-widgets/controls",
            "_model_module_version": "1.5.0",
            "_model_name": "ProgressStyleModel",
            "_view_count": null,
            "_view_module": "@jupyter-widgets/base",
            "_view_module_version": "1.2.0",
            "_view_name": "StyleView",
            "bar_color": null,
            "description_width": ""
          }
        },
        "da13b877d2e744669d073aee19242cd2": {
          "model_module": "@jupyter-widgets/base",
          "model_name": "LayoutModel",
          "model_module_version": "1.2.0",
          "state": {
            "_model_module": "@jupyter-widgets/base",
            "_model_module_version": "1.2.0",
            "_model_name": "LayoutModel",
            "_view_count": null,
            "_view_module": "@jupyter-widgets/base",
            "_view_module_version": "1.2.0",
            "_view_name": "LayoutView",
            "align_content": null,
            "align_items": null,
            "align_self": null,
            "border": null,
            "bottom": null,
            "display": null,
            "flex": null,
            "flex_flow": null,
            "grid_area": null,
            "grid_auto_columns": null,
            "grid_auto_flow": null,
            "grid_auto_rows": null,
            "grid_column": null,
            "grid_gap": null,
            "grid_row": null,
            "grid_template_areas": null,
            "grid_template_columns": null,
            "grid_template_rows": null,
            "height": null,
            "justify_content": null,
            "justify_items": null,
            "left": null,
            "margin": null,
            "max_height": null,
            "max_width": null,
            "min_height": null,
            "min_width": null,
            "object_fit": null,
            "object_position": null,
            "order": null,
            "overflow": null,
            "overflow_x": null,
            "overflow_y": null,
            "padding": null,
            "right": null,
            "top": null,
            "visibility": null,
            "width": null
          }
        },
        "65e51db2acd344e8939e324f476e172b": {
          "model_module": "@jupyter-widgets/controls",
          "model_name": "DescriptionStyleModel",
          "model_module_version": "1.5.0",
          "state": {
            "_model_module": "@jupyter-widgets/controls",
            "_model_module_version": "1.5.0",
            "_model_name": "DescriptionStyleModel",
            "_view_count": null,
            "_view_module": "@jupyter-widgets/base",
            "_view_module_version": "1.2.0",
            "_view_name": "StyleView",
            "description_width": ""
          }
        },
        "a1534f0a4eff4ade91820bb1964bb125": {
          "model_module": "@jupyter-widgets/controls",
          "model_name": "HBoxModel",
          "model_module_version": "1.5.0",
          "state": {
            "_dom_classes": [],
            "_model_module": "@jupyter-widgets/controls",
            "_model_module_version": "1.5.0",
            "_model_name": "HBoxModel",
            "_view_count": null,
            "_view_module": "@jupyter-widgets/controls",
            "_view_module_version": "1.5.0",
            "_view_name": "HBoxView",
            "box_style": "",
            "children": [
              "IPY_MODEL_6ed903907f0a4361b3fce51ef69729a9",
              "IPY_MODEL_3f687d0cdbb14540928d2e8362e076d2",
              "IPY_MODEL_58461c9239ec44a195f68d6f320c4dda"
            ],
            "layout": "IPY_MODEL_44a157bd7881497494f8ac6db0fd3d49"
          }
        },
        "6ed903907f0a4361b3fce51ef69729a9": {
          "model_module": "@jupyter-widgets/controls",
          "model_name": "HTMLModel",
          "model_module_version": "1.5.0",
          "state": {
            "_dom_classes": [],
            "_model_module": "@jupyter-widgets/controls",
            "_model_module_version": "1.5.0",
            "_model_name": "HTMLModel",
            "_view_count": null,
            "_view_module": "@jupyter-widgets/controls",
            "_view_module_version": "1.5.0",
            "_view_name": "HTMLView",
            "description": "",
            "description_tooltip": null,
            "layout": "IPY_MODEL_e75c34248fb8452b8e6bea70503ad73c",
            "placeholder": "​",
            "style": "IPY_MODEL_8204be2cf1d4463ca4259ef742db010a",
            "value": "100%"
          }
        },
        "3f687d0cdbb14540928d2e8362e076d2": {
          "model_module": "@jupyter-widgets/controls",
          "model_name": "FloatProgressModel",
          "model_module_version": "1.5.0",
          "state": {
            "_dom_classes": [],
            "_model_module": "@jupyter-widgets/controls",
            "_model_module_version": "1.5.0",
            "_model_name": "FloatProgressModel",
            "_view_count": null,
            "_view_module": "@jupyter-widgets/controls",
            "_view_module_version": "1.5.0",
            "_view_name": "ProgressView",
            "bar_style": "success",
            "description": "",
            "description_tooltip": null,
            "layout": "IPY_MODEL_bde3bcad10204cb1ba88f8216885ea1b",
            "max": 26096019,
            "min": 0,
            "orientation": "horizontal",
            "style": "IPY_MODEL_8c8be7f5c9ed4e25821e3e9294d00038",
            "value": 26096019
          }
        },
        "58461c9239ec44a195f68d6f320c4dda": {
          "model_module": "@jupyter-widgets/controls",
          "model_name": "HTMLModel",
          "model_module_version": "1.5.0",
          "state": {
            "_dom_classes": [],
            "_model_module": "@jupyter-widgets/controls",
            "_model_module_version": "1.5.0",
            "_model_name": "HTMLModel",
            "_view_count": null,
            "_view_module": "@jupyter-widgets/controls",
            "_view_module_version": "1.5.0",
            "_view_name": "HTMLView",
            "description": "",
            "description_tooltip": null,
            "layout": "IPY_MODEL_859a41babf9b47b79ad89ea72e95ef22",
            "placeholder": "​",
            "style": "IPY_MODEL_46d9cf87ddd341aca62d6873f80f4d13",
            "value": " 24.9M/24.9M [00:00&lt;00:00, 37.2MB/s]"
          }
        },
        "44a157bd7881497494f8ac6db0fd3d49": {
          "model_module": "@jupyter-widgets/base",
          "model_name": "LayoutModel",
          "model_module_version": "1.2.0",
          "state": {
            "_model_module": "@jupyter-widgets/base",
            "_model_module_version": "1.2.0",
            "_model_name": "LayoutModel",
            "_view_count": null,
            "_view_module": "@jupyter-widgets/base",
            "_view_module_version": "1.2.0",
            "_view_name": "LayoutView",
            "align_content": null,
            "align_items": null,
            "align_self": null,
            "border": null,
            "bottom": null,
            "display": null,
            "flex": null,
            "flex_flow": null,
            "grid_area": null,
            "grid_auto_columns": null,
            "grid_auto_flow": null,
            "grid_auto_rows": null,
            "grid_column": null,
            "grid_gap": null,
            "grid_row": null,
            "grid_template_areas": null,
            "grid_template_columns": null,
            "grid_template_rows": null,
            "height": null,
            "justify_content": null,
            "justify_items": null,
            "left": null,
            "margin": null,
            "max_height": null,
            "max_width": null,
            "min_height": null,
            "min_width": null,
            "object_fit": null,
            "object_position": null,
            "order": null,
            "overflow": null,
            "overflow_x": null,
            "overflow_y": null,
            "padding": null,
            "right": null,
            "top": null,
            "visibility": null,
            "width": null
          }
        },
        "e75c34248fb8452b8e6bea70503ad73c": {
          "model_module": "@jupyter-widgets/base",
          "model_name": "LayoutModel",
          "model_module_version": "1.2.0",
          "state": {
            "_model_module": "@jupyter-widgets/base",
            "_model_module_version": "1.2.0",
            "_model_name": "LayoutModel",
            "_view_count": null,
            "_view_module": "@jupyter-widgets/base",
            "_view_module_version": "1.2.0",
            "_view_name": "LayoutView",
            "align_content": null,
            "align_items": null,
            "align_self": null,
            "border": null,
            "bottom": null,
            "display": null,
            "flex": null,
            "flex_flow": null,
            "grid_area": null,
            "grid_auto_columns": null,
            "grid_auto_flow": null,
            "grid_auto_rows": null,
            "grid_column": null,
            "grid_gap": null,
            "grid_row": null,
            "grid_template_areas": null,
            "grid_template_columns": null,
            "grid_template_rows": null,
            "height": null,
            "justify_content": null,
            "justify_items": null,
            "left": null,
            "margin": null,
            "max_height": null,
            "max_width": null,
            "min_height": null,
            "min_width": null,
            "object_fit": null,
            "object_position": null,
            "order": null,
            "overflow": null,
            "overflow_x": null,
            "overflow_y": null,
            "padding": null,
            "right": null,
            "top": null,
            "visibility": null,
            "width": null
          }
        },
        "8204be2cf1d4463ca4259ef742db010a": {
          "model_module": "@jupyter-widgets/controls",
          "model_name": "DescriptionStyleModel",
          "model_module_version": "1.5.0",
          "state": {
            "_model_module": "@jupyter-widgets/controls",
            "_model_module_version": "1.5.0",
            "_model_name": "DescriptionStyleModel",
            "_view_count": null,
            "_view_module": "@jupyter-widgets/base",
            "_view_module_version": "1.2.0",
            "_view_name": "StyleView",
            "description_width": ""
          }
        },
        "bde3bcad10204cb1ba88f8216885ea1b": {
          "model_module": "@jupyter-widgets/base",
          "model_name": "LayoutModel",
          "model_module_version": "1.2.0",
          "state": {
            "_model_module": "@jupyter-widgets/base",
            "_model_module_version": "1.2.0",
            "_model_name": "LayoutModel",
            "_view_count": null,
            "_view_module": "@jupyter-widgets/base",
            "_view_module_version": "1.2.0",
            "_view_name": "LayoutView",
            "align_content": null,
            "align_items": null,
            "align_self": null,
            "border": null,
            "bottom": null,
            "display": null,
            "flex": null,
            "flex_flow": null,
            "grid_area": null,
            "grid_auto_columns": null,
            "grid_auto_flow": null,
            "grid_auto_rows": null,
            "grid_column": null,
            "grid_gap": null,
            "grid_row": null,
            "grid_template_areas": null,
            "grid_template_columns": null,
            "grid_template_rows": null,
            "height": null,
            "justify_content": null,
            "justify_items": null,
            "left": null,
            "margin": null,
            "max_height": null,
            "max_width": null,
            "min_height": null,
            "min_width": null,
            "object_fit": null,
            "object_position": null,
            "order": null,
            "overflow": null,
            "overflow_x": null,
            "overflow_y": null,
            "padding": null,
            "right": null,
            "top": null,
            "visibility": null,
            "width": null
          }
        },
        "8c8be7f5c9ed4e25821e3e9294d00038": {
          "model_module": "@jupyter-widgets/controls",
          "model_name": "ProgressStyleModel",
          "model_module_version": "1.5.0",
          "state": {
            "_model_module": "@jupyter-widgets/controls",
            "_model_module_version": "1.5.0",
            "_model_name": "ProgressStyleModel",
            "_view_count": null,
            "_view_module": "@jupyter-widgets/base",
            "_view_module_version": "1.2.0",
            "_view_name": "StyleView",
            "bar_color": null,
            "description_width": ""
          }
        },
        "859a41babf9b47b79ad89ea72e95ef22": {
          "model_module": "@jupyter-widgets/base",
          "model_name": "LayoutModel",
          "model_module_version": "1.2.0",
          "state": {
            "_model_module": "@jupyter-widgets/base",
            "_model_module_version": "1.2.0",
            "_model_name": "LayoutModel",
            "_view_count": null,
            "_view_module": "@jupyter-widgets/base",
            "_view_module_version": "1.2.0",
            "_view_name": "LayoutView",
            "align_content": null,
            "align_items": null,
            "align_self": null,
            "border": null,
            "bottom": null,
            "display": null,
            "flex": null,
            "flex_flow": null,
            "grid_area": null,
            "grid_auto_columns": null,
            "grid_auto_flow": null,
            "grid_auto_rows": null,
            "grid_column": null,
            "grid_gap": null,
            "grid_row": null,
            "grid_template_areas": null,
            "grid_template_columns": null,
            "grid_template_rows": null,
            "height": null,
            "justify_content": null,
            "justify_items": null,
            "left": null,
            "margin": null,
            "max_height": null,
            "max_width": null,
            "min_height": null,
            "min_width": null,
            "object_fit": null,
            "object_position": null,
            "order": null,
            "overflow": null,
            "overflow_x": null,
            "overflow_y": null,
            "padding": null,
            "right": null,
            "top": null,
            "visibility": null,
            "width": null
          }
        },
        "46d9cf87ddd341aca62d6873f80f4d13": {
          "model_module": "@jupyter-widgets/controls",
          "model_name": "DescriptionStyleModel",
          "model_module_version": "1.5.0",
          "state": {
            "_model_module": "@jupyter-widgets/controls",
            "_model_module_version": "1.5.0",
            "_model_name": "DescriptionStyleModel",
            "_view_count": null,
            "_view_module": "@jupyter-widgets/base",
            "_view_module_version": "1.2.0",
            "_view_name": "StyleView",
            "description_width": ""
          }
        },
        "277090d36e1148499ac7059c36e6829f": {
          "model_module": "@jupyter-widgets/controls",
          "model_name": "HBoxModel",
          "model_module_version": "1.5.0",
          "state": {
            "_dom_classes": [],
            "_model_module": "@jupyter-widgets/controls",
            "_model_module_version": "1.5.0",
            "_model_name": "HBoxModel",
            "_view_count": null,
            "_view_module": "@jupyter-widgets/controls",
            "_view_module_version": "1.5.0",
            "_view_name": "HBoxView",
            "box_style": "",
            "children": [
              "IPY_MODEL_5085e8b4c9684f9d9bcfc0bdc466bb0a",
              "IPY_MODEL_3d24839354bb460f8c7e4631a059612d",
              "IPY_MODEL_b37ca8b376154522a00c07971831d04c"
            ],
            "layout": "IPY_MODEL_d79262739d6c42aba55c46f442e30aeb"
          }
        },
        "5085e8b4c9684f9d9bcfc0bdc466bb0a": {
          "model_module": "@jupyter-widgets/controls",
          "model_name": "HTMLModel",
          "model_module_version": "1.5.0",
          "state": {
            "_dom_classes": [],
            "_model_module": "@jupyter-widgets/controls",
            "_model_module_version": "1.5.0",
            "_model_name": "HTMLModel",
            "_view_count": null,
            "_view_module": "@jupyter-widgets/controls",
            "_view_module_version": "1.5.0",
            "_view_name": "HTMLView",
            "description": "",
            "description_tooltip": null,
            "layout": "IPY_MODEL_ac939676dfe9496d810ed0fe1359561c",
            "placeholder": "​",
            "style": "IPY_MODEL_d99e5f7b1e4f46d4a1398f889c184888",
            "value": "100%"
          }
        },
        "3d24839354bb460f8c7e4631a059612d": {
          "model_module": "@jupyter-widgets/controls",
          "model_name": "FloatProgressModel",
          "model_module_version": "1.5.0",
          "state": {
            "_dom_classes": [],
            "_model_module": "@jupyter-widgets/controls",
            "_model_module_version": "1.5.0",
            "_model_name": "FloatProgressModel",
            "_view_count": null,
            "_view_module": "@jupyter-widgets/controls",
            "_view_module_version": "1.5.0",
            "_view_name": "ProgressView",
            "bar_style": "success",
            "description": "",
            "description_tooltip": null,
            "layout": "IPY_MODEL_6c66b806882249e790c1097c79febdf4",
            "max": 53348075,
            "min": 0,
            "orientation": "horizontal",
            "style": "IPY_MODEL_c337a0fe19b14f3a925e0b2713cd7cd9",
            "value": 53348075
          }
        },
        "b37ca8b376154522a00c07971831d04c": {
          "model_module": "@jupyter-widgets/controls",
          "model_name": "HTMLModel",
          "model_module_version": "1.5.0",
          "state": {
            "_dom_classes": [],
            "_model_module": "@jupyter-widgets/controls",
            "_model_module_version": "1.5.0",
            "_model_name": "HTMLModel",
            "_view_count": null,
            "_view_module": "@jupyter-widgets/controls",
            "_view_module_version": "1.5.0",
            "_view_name": "HTMLView",
            "description": "",
            "description_tooltip": null,
            "layout": "IPY_MODEL_a8e029b4691046e5a62b2cb80bdfb258",
            "placeholder": "​",
            "style": "IPY_MODEL_fee31378f94943d08ab781541819da1e",
            "value": " 50.9M/50.9M [00:01&lt;00:00, 76.6MB/s]"
          }
        },
        "d79262739d6c42aba55c46f442e30aeb": {
          "model_module": "@jupyter-widgets/base",
          "model_name": "LayoutModel",
          "model_module_version": "1.2.0",
          "state": {
            "_model_module": "@jupyter-widgets/base",
            "_model_module_version": "1.2.0",
            "_model_name": "LayoutModel",
            "_view_count": null,
            "_view_module": "@jupyter-widgets/base",
            "_view_module_version": "1.2.0",
            "_view_name": "LayoutView",
            "align_content": null,
            "align_items": null,
            "align_self": null,
            "border": null,
            "bottom": null,
            "display": null,
            "flex": null,
            "flex_flow": null,
            "grid_area": null,
            "grid_auto_columns": null,
            "grid_auto_flow": null,
            "grid_auto_rows": null,
            "grid_column": null,
            "grid_gap": null,
            "grid_row": null,
            "grid_template_areas": null,
            "grid_template_columns": null,
            "grid_template_rows": null,
            "height": null,
            "justify_content": null,
            "justify_items": null,
            "left": null,
            "margin": null,
            "max_height": null,
            "max_width": null,
            "min_height": null,
            "min_width": null,
            "object_fit": null,
            "object_position": null,
            "order": null,
            "overflow": null,
            "overflow_x": null,
            "overflow_y": null,
            "padding": null,
            "right": null,
            "top": null,
            "visibility": null,
            "width": null
          }
        },
        "ac939676dfe9496d810ed0fe1359561c": {
          "model_module": "@jupyter-widgets/base",
          "model_name": "LayoutModel",
          "model_module_version": "1.2.0",
          "state": {
            "_model_module": "@jupyter-widgets/base",
            "_model_module_version": "1.2.0",
            "_model_name": "LayoutModel",
            "_view_count": null,
            "_view_module": "@jupyter-widgets/base",
            "_view_module_version": "1.2.0",
            "_view_name": "LayoutView",
            "align_content": null,
            "align_items": null,
            "align_self": null,
            "border": null,
            "bottom": null,
            "display": null,
            "flex": null,
            "flex_flow": null,
            "grid_area": null,
            "grid_auto_columns": null,
            "grid_auto_flow": null,
            "grid_auto_rows": null,
            "grid_column": null,
            "grid_gap": null,
            "grid_row": null,
            "grid_template_areas": null,
            "grid_template_columns": null,
            "grid_template_rows": null,
            "height": null,
            "justify_content": null,
            "justify_items": null,
            "left": null,
            "margin": null,
            "max_height": null,
            "max_width": null,
            "min_height": null,
            "min_width": null,
            "object_fit": null,
            "object_position": null,
            "order": null,
            "overflow": null,
            "overflow_x": null,
            "overflow_y": null,
            "padding": null,
            "right": null,
            "top": null,
            "visibility": null,
            "width": null
          }
        },
        "d99e5f7b1e4f46d4a1398f889c184888": {
          "model_module": "@jupyter-widgets/controls",
          "model_name": "DescriptionStyleModel",
          "model_module_version": "1.5.0",
          "state": {
            "_model_module": "@jupyter-widgets/controls",
            "_model_module_version": "1.5.0",
            "_model_name": "DescriptionStyleModel",
            "_view_count": null,
            "_view_module": "@jupyter-widgets/base",
            "_view_module_version": "1.2.0",
            "_view_name": "StyleView",
            "description_width": ""
          }
        },
        "6c66b806882249e790c1097c79febdf4": {
          "model_module": "@jupyter-widgets/base",
          "model_name": "LayoutModel",
          "model_module_version": "1.2.0",
          "state": {
            "_model_module": "@jupyter-widgets/base",
            "_model_module_version": "1.2.0",
            "_model_name": "LayoutModel",
            "_view_count": null,
            "_view_module": "@jupyter-widgets/base",
            "_view_module_version": "1.2.0",
            "_view_name": "LayoutView",
            "align_content": null,
            "align_items": null,
            "align_self": null,
            "border": null,
            "bottom": null,
            "display": null,
            "flex": null,
            "flex_flow": null,
            "grid_area": null,
            "grid_auto_columns": null,
            "grid_auto_flow": null,
            "grid_auto_rows": null,
            "grid_column": null,
            "grid_gap": null,
            "grid_row": null,
            "grid_template_areas": null,
            "grid_template_columns": null,
            "grid_template_rows": null,
            "height": null,
            "justify_content": null,
            "justify_items": null,
            "left": null,
            "margin": null,
            "max_height": null,
            "max_width": null,
            "min_height": null,
            "min_width": null,
            "object_fit": null,
            "object_position": null,
            "order": null,
            "overflow": null,
            "overflow_x": null,
            "overflow_y": null,
            "padding": null,
            "right": null,
            "top": null,
            "visibility": null,
            "width": null
          }
        },
        "c337a0fe19b14f3a925e0b2713cd7cd9": {
          "model_module": "@jupyter-widgets/controls",
          "model_name": "ProgressStyleModel",
          "model_module_version": "1.5.0",
          "state": {
            "_model_module": "@jupyter-widgets/controls",
            "_model_module_version": "1.5.0",
            "_model_name": "ProgressStyleModel",
            "_view_count": null,
            "_view_module": "@jupyter-widgets/base",
            "_view_module_version": "1.2.0",
            "_view_name": "StyleView",
            "bar_color": null,
            "description_width": ""
          }
        },
        "a8e029b4691046e5a62b2cb80bdfb258": {
          "model_module": "@jupyter-widgets/base",
          "model_name": "LayoutModel",
          "model_module_version": "1.2.0",
          "state": {
            "_model_module": "@jupyter-widgets/base",
            "_model_module_version": "1.2.0",
            "_model_name": "LayoutModel",
            "_view_count": null,
            "_view_module": "@jupyter-widgets/base",
            "_view_module_version": "1.2.0",
            "_view_name": "LayoutView",
            "align_content": null,
            "align_items": null,
            "align_self": null,
            "border": null,
            "bottom": null,
            "display": null,
            "flex": null,
            "flex_flow": null,
            "grid_area": null,
            "grid_auto_columns": null,
            "grid_auto_flow": null,
            "grid_auto_rows": null,
            "grid_column": null,
            "grid_gap": null,
            "grid_row": null,
            "grid_template_areas": null,
            "grid_template_columns": null,
            "grid_template_rows": null,
            "height": null,
            "justify_content": null,
            "justify_items": null,
            "left": null,
            "margin": null,
            "max_height": null,
            "max_width": null,
            "min_height": null,
            "min_width": null,
            "object_fit": null,
            "object_position": null,
            "order": null,
            "overflow": null,
            "overflow_x": null,
            "overflow_y": null,
            "padding": null,
            "right": null,
            "top": null,
            "visibility": null,
            "width": null
          }
        },
        "fee31378f94943d08ab781541819da1e": {
          "model_module": "@jupyter-widgets/controls",
          "model_name": "DescriptionStyleModel",
          "model_module_version": "1.5.0",
          "state": {
            "_model_module": "@jupyter-widgets/controls",
            "_model_module_version": "1.5.0",
            "_model_name": "DescriptionStyleModel",
            "_view_count": null,
            "_view_module": "@jupyter-widgets/base",
            "_view_module_version": "1.2.0",
            "_view_name": "StyleView",
            "description_width": ""
          }
        },
        "cac5611060794476aef6fc1758b8d2cb": {
          "model_module": "@jupyter-widgets/controls",
          "model_name": "HBoxModel",
          "model_module_version": "1.5.0",
          "state": {
            "_dom_classes": [],
            "_model_module": "@jupyter-widgets/controls",
            "_model_module_version": "1.5.0",
            "_model_name": "HBoxModel",
            "_view_count": null,
            "_view_module": "@jupyter-widgets/controls",
            "_view_module_version": "1.5.0",
            "_view_name": "HBoxView",
            "box_style": "",
            "children": [
              "IPY_MODEL_061effadbe9045778854f11a9ff17505",
              "IPY_MODEL_cedbc02093df49b5975848dd7739ff2a",
              "IPY_MODEL_2b3766fcb6c249bf973e33cbc3efdfc8"
            ],
            "layout": "IPY_MODEL_c9eb1521feb24060847f9026961b38b8"
          }
        },
        "061effadbe9045778854f11a9ff17505": {
          "model_module": "@jupyter-widgets/controls",
          "model_name": "HTMLModel",
          "model_module_version": "1.5.0",
          "state": {
            "_dom_classes": [],
            "_model_module": "@jupyter-widgets/controls",
            "_model_module_version": "1.5.0",
            "_model_name": "HTMLModel",
            "_view_count": null,
            "_view_module": "@jupyter-widgets/controls",
            "_view_module_version": "1.5.0",
            "_view_name": "HTMLView",
            "description": "",
            "description_tooltip": null,
            "layout": "IPY_MODEL_bd4b51e6a0234421941ffdf4af125f0b",
            "placeholder": "​",
            "style": "IPY_MODEL_0f334adca04e473d9a7b4930e281c829",
            "value": "100%"
          }
        },
        "cedbc02093df49b5975848dd7739ff2a": {
          "model_module": "@jupyter-widgets/controls",
          "model_name": "FloatProgressModel",
          "model_module_version": "1.5.0",
          "state": {
            "_dom_classes": [],
            "_model_module": "@jupyter-widgets/controls",
            "_model_module_version": "1.5.0",
            "_model_name": "FloatProgressModel",
            "_view_count": null,
            "_view_module": "@jupyter-widgets/controls",
            "_view_module_version": "1.5.0",
            "_view_name": "ProgressView",
            "bar_style": "success",
            "description": "",
            "description_tooltip": null,
            "layout": "IPY_MODEL_e486f3680a374c1d86b10e635a951120",
            "max": 96503107,
            "min": 0,
            "orientation": "horizontal",
            "style": "IPY_MODEL_0790454c53ea42daa3d5d0791cc54640",
            "value": 96503107
          }
        },
        "2b3766fcb6c249bf973e33cbc3efdfc8": {
          "model_module": "@jupyter-widgets/controls",
          "model_name": "HTMLModel",
          "model_module_version": "1.5.0",
          "state": {
            "_dom_classes": [],
            "_model_module": "@jupyter-widgets/controls",
            "_model_module_version": "1.5.0",
            "_model_name": "HTMLModel",
            "_view_count": null,
            "_view_module": "@jupyter-widgets/controls",
            "_view_module_version": "1.5.0",
            "_view_name": "HTMLView",
            "description": "",
            "description_tooltip": null,
            "layout": "IPY_MODEL_a8079b0bc31f45648876fda784c29c36",
            "placeholder": "​",
            "style": "IPY_MODEL_216c9966ffde478e89cb7fa7893b2c6e",
            "value": " 92.0M/92.0M [00:01&lt;00:00, 59.4MB/s]"
          }
        },
        "c9eb1521feb24060847f9026961b38b8": {
          "model_module": "@jupyter-widgets/base",
          "model_name": "LayoutModel",
          "model_module_version": "1.2.0",
          "state": {
            "_model_module": "@jupyter-widgets/base",
            "_model_module_version": "1.2.0",
            "_model_name": "LayoutModel",
            "_view_count": null,
            "_view_module": "@jupyter-widgets/base",
            "_view_module_version": "1.2.0",
            "_view_name": "LayoutView",
            "align_content": null,
            "align_items": null,
            "align_self": null,
            "border": null,
            "bottom": null,
            "display": null,
            "flex": null,
            "flex_flow": null,
            "grid_area": null,
            "grid_auto_columns": null,
            "grid_auto_flow": null,
            "grid_auto_rows": null,
            "grid_column": null,
            "grid_gap": null,
            "grid_row": null,
            "grid_template_areas": null,
            "grid_template_columns": null,
            "grid_template_rows": null,
            "height": null,
            "justify_content": null,
            "justify_items": null,
            "left": null,
            "margin": null,
            "max_height": null,
            "max_width": null,
            "min_height": null,
            "min_width": null,
            "object_fit": null,
            "object_position": null,
            "order": null,
            "overflow": null,
            "overflow_x": null,
            "overflow_y": null,
            "padding": null,
            "right": null,
            "top": null,
            "visibility": null,
            "width": null
          }
        },
        "bd4b51e6a0234421941ffdf4af125f0b": {
          "model_module": "@jupyter-widgets/base",
          "model_name": "LayoutModel",
          "model_module_version": "1.2.0",
          "state": {
            "_model_module": "@jupyter-widgets/base",
            "_model_module_version": "1.2.0",
            "_model_name": "LayoutModel",
            "_view_count": null,
            "_view_module": "@jupyter-widgets/base",
            "_view_module_version": "1.2.0",
            "_view_name": "LayoutView",
            "align_content": null,
            "align_items": null,
            "align_self": null,
            "border": null,
            "bottom": null,
            "display": null,
            "flex": null,
            "flex_flow": null,
            "grid_area": null,
            "grid_auto_columns": null,
            "grid_auto_flow": null,
            "grid_auto_rows": null,
            "grid_column": null,
            "grid_gap": null,
            "grid_row": null,
            "grid_template_areas": null,
            "grid_template_columns": null,
            "grid_template_rows": null,
            "height": null,
            "justify_content": null,
            "justify_items": null,
            "left": null,
            "margin": null,
            "max_height": null,
            "max_width": null,
            "min_height": null,
            "min_width": null,
            "object_fit": null,
            "object_position": null,
            "order": null,
            "overflow": null,
            "overflow_x": null,
            "overflow_y": null,
            "padding": null,
            "right": null,
            "top": null,
            "visibility": null,
            "width": null
          }
        },
        "0f334adca04e473d9a7b4930e281c829": {
          "model_module": "@jupyter-widgets/controls",
          "model_name": "DescriptionStyleModel",
          "model_module_version": "1.5.0",
          "state": {
            "_model_module": "@jupyter-widgets/controls",
            "_model_module_version": "1.5.0",
            "_model_name": "DescriptionStyleModel",
            "_view_count": null,
            "_view_module": "@jupyter-widgets/base",
            "_view_module_version": "1.2.0",
            "_view_name": "StyleView",
            "description_width": ""
          }
        },
        "e486f3680a374c1d86b10e635a951120": {
          "model_module": "@jupyter-widgets/base",
          "model_name": "LayoutModel",
          "model_module_version": "1.2.0",
          "state": {
            "_model_module": "@jupyter-widgets/base",
            "_model_module_version": "1.2.0",
            "_model_name": "LayoutModel",
            "_view_count": null,
            "_view_module": "@jupyter-widgets/base",
            "_view_module_version": "1.2.0",
            "_view_name": "LayoutView",
            "align_content": null,
            "align_items": null,
            "align_self": null,
            "border": null,
            "bottom": null,
            "display": null,
            "flex": null,
            "flex_flow": null,
            "grid_area": null,
            "grid_auto_columns": null,
            "grid_auto_flow": null,
            "grid_auto_rows": null,
            "grid_column": null,
            "grid_gap": null,
            "grid_row": null,
            "grid_template_areas": null,
            "grid_template_columns": null,
            "grid_template_rows": null,
            "height": null,
            "justify_content": null,
            "justify_items": null,
            "left": null,
            "margin": null,
            "max_height": null,
            "max_width": null,
            "min_height": null,
            "min_width": null,
            "object_fit": null,
            "object_position": null,
            "order": null,
            "overflow": null,
            "overflow_x": null,
            "overflow_y": null,
            "padding": null,
            "right": null,
            "top": null,
            "visibility": null,
            "width": null
          }
        },
        "0790454c53ea42daa3d5d0791cc54640": {
          "model_module": "@jupyter-widgets/controls",
          "model_name": "ProgressStyleModel",
          "model_module_version": "1.5.0",
          "state": {
            "_model_module": "@jupyter-widgets/controls",
            "_model_module_version": "1.5.0",
            "_model_name": "ProgressStyleModel",
            "_view_count": null,
            "_view_module": "@jupyter-widgets/base",
            "_view_module_version": "1.2.0",
            "_view_name": "StyleView",
            "bar_color": null,
            "description_width": ""
          }
        },
        "a8079b0bc31f45648876fda784c29c36": {
          "model_module": "@jupyter-widgets/base",
          "model_name": "LayoutModel",
          "model_module_version": "1.2.0",
          "state": {
            "_model_module": "@jupyter-widgets/base",
            "_model_module_version": "1.2.0",
            "_model_name": "LayoutModel",
            "_view_count": null,
            "_view_module": "@jupyter-widgets/base",
            "_view_module_version": "1.2.0",
            "_view_name": "LayoutView",
            "align_content": null,
            "align_items": null,
            "align_self": null,
            "border": null,
            "bottom": null,
            "display": null,
            "flex": null,
            "flex_flow": null,
            "grid_area": null,
            "grid_auto_columns": null,
            "grid_auto_flow": null,
            "grid_auto_rows": null,
            "grid_column": null,
            "grid_gap": null,
            "grid_row": null,
            "grid_template_areas": null,
            "grid_template_columns": null,
            "grid_template_rows": null,
            "height": null,
            "justify_content": null,
            "justify_items": null,
            "left": null,
            "margin": null,
            "max_height": null,
            "max_width": null,
            "min_height": null,
            "min_width": null,
            "object_fit": null,
            "object_position": null,
            "order": null,
            "overflow": null,
            "overflow_x": null,
            "overflow_y": null,
            "padding": null,
            "right": null,
            "top": null,
            "visibility": null,
            "width": null
          }
        },
        "216c9966ffde478e89cb7fa7893b2c6e": {
          "model_module": "@jupyter-widgets/controls",
          "model_name": "DescriptionStyleModel",
          "model_module_version": "1.5.0",
          "state": {
            "_model_module": "@jupyter-widgets/controls",
            "_model_module_version": "1.5.0",
            "_model_name": "DescriptionStyleModel",
            "_view_count": null,
            "_view_module": "@jupyter-widgets/base",
            "_view_module_version": "1.2.0",
            "_view_name": "StyleView",
            "description_width": ""
          }
        }
      }
    }
  },
  "cells": [
    {
      "cell_type": "markdown",
      "metadata": {
        "id": "view-in-github",
        "colab_type": "text"
      },
      "source": [
        "<a href=\"https://colab.research.google.com/github/s4ki3f/Lightning-Series/blob/main/cpu-YOLOv5_Classification_350%20epoch.ipynb\" target=\"_parent\"><img src=\"https://colab.research.google.com/assets/colab-badge.svg\" alt=\"Open In Colab\"/></a>"
      ]
    },
    {
      "cell_type": "markdown",
      "source": [
        "# YOLOv5 Classification Tutorial\n",
        "\n",
        "YOLOv5 supports classification tasks too. This is the official YOLOv5 classification notebook tutorial. YOLOv5 is maintained by [Ultralytics](https://github.com/ultralytics/yolov5).\n",
        "\n",
        "This notebook covers:\n",
        "\n",
        "*   Inference with out-of-the-box YOLOv5 classification on ImageNet\n",
        "*  [Training YOLOv5 classification](https://blog.roboflow.com//train-YOLOv5-classification-custom-data) on custom data\n",
        "\n",
        "*Looking for custom data? Explore over 66M community datasets on [Roboflow Universe](https://universe.roboflow.com).*\n",
        "\n",
        "This notebook was created with Google Colab. [Click here](https://colab.research.google.com/drive/1FiSNz9f_nT8aFtDEU3iDAQKlPT8SCVni?usp=sharing) to run it."
      ],
      "metadata": {
        "id": "5GYQX3of4QiW"
      }
    },
    {
      "cell_type": "markdown",
      "source": [
        "# Setup\n",
        "\n",
        "Pull in respective libraries to prepare the notebook environment."
      ],
      "metadata": {
        "id": "-PJ8vlYXbWtN"
      }
    },
    {
      "cell_type": "code",
      "execution_count": 1,
      "metadata": {
        "id": "pIM7fOwm8A7l",
        "colab": {
          "base_uri": "https://localhost:8080/"
        },
        "outputId": "03471602-6258-45c3-bb75-acc8ed130d9d"
      },
      "outputs": [
        {
          "output_type": "stream",
          "name": "stderr",
          "text": [
            "YOLOv5 🚀 v7.0-38-g4362372 Python-3.8.16 torch-1.13.0+cu116 CPU\n"
          ]
        },
        {
          "output_type": "stream",
          "name": "stdout",
          "text": [
            "Setup complete ✅ (2 CPUs, 12.7 GB RAM, 23.0/107.7 GB disk)\n"
          ]
        }
      ],
      "source": [
        "!git clone https://github.com/ultralytics/yolov5  # clone\n",
        "%cd yolov5\n",
        "%pip install -qr requirements.txt  # install\n",
        "\n",
        "import torch\n",
        "import utils\n",
        "display = utils.notebook_init()  # checks"
      ]
    },
    {
      "cell_type": "markdown",
      "source": [
        "# 1. Infer on ImageNet\n",
        "\n",
        "To demonstrate YOLOv5 classification, we'll leverage an already trained model. In this case, we'll download the ImageNet trained models pretrained on ImageNet using YOLOv5 Utils."
      ],
      "metadata": {
        "id": "i_DrUi2nmF40"
      }
    },
    {
      "cell_type": "code",
      "source": [
        "from utils.downloads import attempt_download\n",
        "\n",
        "p5 = ['n', 's', 'm', 'l', 'x']  # P5 models\n",
        "cls = [f'{x}-cls' for x in p5]  # classification models\n",
        "\n",
        "for x in cls:\n",
        "    attempt_download(f'weights/yolov5{x}.pt')"
      ],
      "metadata": {
        "id": "o2scLEh6EYnL",
        "colab": {
          "base_uri": "https://localhost:8080/",
          "height": 381,
          "referenced_widgets": [
            "c00fcf0a78134a7286885cfb2bad52cd",
            "20f5dc97c5ba45e18974070670d73602",
            "112d48898c024b64b1ed83ef9bfb30d1",
            "22209c21fd17456391b78c604971dc58",
            "b5b6f83f59634fd2a3ed0e780e6bf275",
            "899572d98ce945f0980a062b51501c6f",
            "05593676149945d69637911176dd3789",
            "f695f21c6dbf4dea84482de8fa468323",
            "5f15872967224af8b7ff0c22437766cb",
            "8a7d9e9d2d3b4b03b265a9ee97e6213e",
            "c5afb3b357da4e3ba47a83aa08bc499b",
            "71532cbd739f4e24a077642a0ce02281",
            "80814bd00c2b4cecaf8363b1a55a2848",
            "6d92ff50c1324759a0858ad61a2d3ca5",
            "6f3faa25255d4f1cbb8db89c1923d54b",
            "9df6b8d343f94113bcf6a39ab3480195",
            "0e3ec402f8e9470da5bff3cc7f4b6b42",
            "6257af4cc6904ed384ad6944a6fdbbd4",
            "de041e0786be44b0af33f6cc4850aea0",
            "76ba546a440949ad820b8d65ad01691e",
            "da13b877d2e744669d073aee19242cd2",
            "65e51db2acd344e8939e324f476e172b",
            "a1534f0a4eff4ade91820bb1964bb125",
            "6ed903907f0a4361b3fce51ef69729a9",
            "3f687d0cdbb14540928d2e8362e076d2",
            "58461c9239ec44a195f68d6f320c4dda",
            "44a157bd7881497494f8ac6db0fd3d49",
            "e75c34248fb8452b8e6bea70503ad73c",
            "8204be2cf1d4463ca4259ef742db010a",
            "bde3bcad10204cb1ba88f8216885ea1b",
            "8c8be7f5c9ed4e25821e3e9294d00038",
            "859a41babf9b47b79ad89ea72e95ef22",
            "46d9cf87ddd341aca62d6873f80f4d13",
            "277090d36e1148499ac7059c36e6829f",
            "5085e8b4c9684f9d9bcfc0bdc466bb0a",
            "3d24839354bb460f8c7e4631a059612d",
            "b37ca8b376154522a00c07971831d04c",
            "d79262739d6c42aba55c46f442e30aeb",
            "ac939676dfe9496d810ed0fe1359561c",
            "d99e5f7b1e4f46d4a1398f889c184888",
            "6c66b806882249e790c1097c79febdf4",
            "c337a0fe19b14f3a925e0b2713cd7cd9",
            "a8e029b4691046e5a62b2cb80bdfb258",
            "fee31378f94943d08ab781541819da1e",
            "cac5611060794476aef6fc1758b8d2cb",
            "061effadbe9045778854f11a9ff17505",
            "cedbc02093df49b5975848dd7739ff2a",
            "2b3766fcb6c249bf973e33cbc3efdfc8",
            "c9eb1521feb24060847f9026961b38b8",
            "bd4b51e6a0234421941ffdf4af125f0b",
            "0f334adca04e473d9a7b4930e281c829",
            "e486f3680a374c1d86b10e635a951120",
            "0790454c53ea42daa3d5d0791cc54640",
            "a8079b0bc31f45648876fda784c29c36",
            "216c9966ffde478e89cb7fa7893b2c6e"
          ]
        },
        "outputId": "5f521e1a-6d4c-4f0e-b32f-7aeeb9ce841f"
      },
      "execution_count": 2,
      "outputs": [
        {
          "output_type": "stream",
          "name": "stderr",
          "text": [
            "Downloading https://github.com/ultralytics/yolov5/releases/download/v7.0/yolov5n-cls.pt to weights/yolov5n-cls.pt...\n"
          ]
        },
        {
          "output_type": "display_data",
          "data": {
            "text/plain": [
              "  0%|          | 0.00/4.87M [00:00<?, ?B/s]"
            ],
            "application/vnd.jupyter.widget-view+json": {
              "version_major": 2,
              "version_minor": 0,
              "model_id": "c00fcf0a78134a7286885cfb2bad52cd"
            }
          },
          "metadata": {}
        },
        {
          "output_type": "stream",
          "name": "stderr",
          "text": [
            "\n",
            "Downloading https://github.com/ultralytics/yolov5/releases/download/v7.0/yolov5s-cls.pt to weights/yolov5s-cls.pt...\n"
          ]
        },
        {
          "output_type": "display_data",
          "data": {
            "text/plain": [
              "  0%|          | 0.00/10.5M [00:00<?, ?B/s]"
            ],
            "application/vnd.jupyter.widget-view+json": {
              "version_major": 2,
              "version_minor": 0,
              "model_id": "71532cbd739f4e24a077642a0ce02281"
            }
          },
          "metadata": {}
        },
        {
          "output_type": "stream",
          "name": "stderr",
          "text": [
            "\n",
            "Downloading https://github.com/ultralytics/yolov5/releases/download/v7.0/yolov5m-cls.pt to weights/yolov5m-cls.pt...\n"
          ]
        },
        {
          "output_type": "display_data",
          "data": {
            "text/plain": [
              "  0%|          | 0.00/24.9M [00:00<?, ?B/s]"
            ],
            "application/vnd.jupyter.widget-view+json": {
              "version_major": 2,
              "version_minor": 0,
              "model_id": "a1534f0a4eff4ade91820bb1964bb125"
            }
          },
          "metadata": {}
        },
        {
          "output_type": "stream",
          "name": "stderr",
          "text": [
            "\n",
            "Downloading https://github.com/ultralytics/yolov5/releases/download/v7.0/yolov5l-cls.pt to weights/yolov5l-cls.pt...\n"
          ]
        },
        {
          "output_type": "display_data",
          "data": {
            "text/plain": [
              "  0%|          | 0.00/50.9M [00:00<?, ?B/s]"
            ],
            "application/vnd.jupyter.widget-view+json": {
              "version_major": 2,
              "version_minor": 0,
              "model_id": "277090d36e1148499ac7059c36e6829f"
            }
          },
          "metadata": {}
        },
        {
          "output_type": "stream",
          "name": "stderr",
          "text": [
            "\n",
            "Downloading https://github.com/ultralytics/yolov5/releases/download/v7.0/yolov5x-cls.pt to weights/yolov5x-cls.pt...\n"
          ]
        },
        {
          "output_type": "display_data",
          "data": {
            "text/plain": [
              "  0%|          | 0.00/92.0M [00:00<?, ?B/s]"
            ],
            "application/vnd.jupyter.widget-view+json": {
              "version_major": 2,
              "version_minor": 0,
              "model_id": "cac5611060794476aef6fc1758b8d2cb"
            }
          },
          "metadata": {}
        },
        {
          "output_type": "stream",
          "name": "stderr",
          "text": [
            "\n"
          ]
        }
      ]
    },
    {
      "cell_type": "markdown",
      "source": [
        "Now, we can infer on an example image from the ImageNet dataset."
      ],
      "metadata": {
        "id": "Fn2_a38DmZ2H"
      }
    },
    {
      "cell_type": "code",
      "source": [
        "#Download example image\n",
        "import requests\n",
        "image_url = \"https://i.imgur.com/OczPfaz.jpg\"\n",
        "img_data = requests.get(image_url).content\n",
        "with open('bananas.jpg', 'wb') as handler:\n",
        "    handler.write(img_data)"
      ],
      "metadata": {
        "id": "L9objhVHnS-h"
      },
      "execution_count": null,
      "outputs": []
    },
    {
      "cell_type": "code",
      "source": [
        "#Infer using classify/predict.py\n",
        "!python classify/predict.py --weights ./weigths/yolov5s-cls.pt --source bananas.jpg"
      ],
      "metadata": {
        "id": "qqxF5pHCrLd3",
        "colab": {
          "base_uri": "https://localhost:8080/"
        },
        "outputId": "5d11653d-4068-4074-ac3c-56905a7cf207"
      },
      "execution_count": null,
      "outputs": [
        {
          "output_type": "stream",
          "name": "stdout",
          "text": [
            "\u001b[34m\u001b[1mclassify/predict: \u001b[0mweights=['./weigths/yolov5s-cls.pt'], source=bananas.jpg, data=data/coco128.yaml, imgsz=[224, 224], device=, view_img=False, save_txt=False, nosave=False, augment=False, visualize=False, update=False, project=runs/predict-cls, name=exp, exist_ok=False, half=False, dnn=False, vid_stride=1\n",
            "YOLOv5 🚀 v7.0-38-g4362372 Python-3.8.16 torch-1.13.0+cu116 CUDA:0 (Tesla T4, 15110MiB)\n",
            "\n",
            "Downloading https://github.com/ultralytics/yolov5/releases/download/v7.0/yolov5s-cls.pt to weigths/yolov5s-cls.pt...\n",
            "100% 10.5M/10.5M [00:00<00:00, 61.6MB/s]\n",
            "\n",
            "Fusing layers... \n",
            "Model summary: 117 layers, 5447688 parameters, 0 gradients, 11.4 GFLOPs\n",
            "image 1/1 /content/yolov5/bananas.jpg: 224x224 banana 0.96, zucchini 0.00, acorn squash 0.00, spaghetti squash 0.00, green mamba 0.00, 4.1ms\n",
            "Speed: 0.4ms pre-process, 4.1ms inference, 2.2ms NMS per image at shape (1, 3, 224, 224)\n",
            "Results saved to \u001b[1mruns/predict-cls/exp\u001b[0m\n"
          ]
        }
      ]
    },
    {
      "cell_type": "markdown",
      "source": [
        "From the output, we can see the ImageNet trained model correctly predicts the class `banana` with `0.95` confidence."
      ],
      "metadata": {
        "id": "yQmj7IXqo3kk"
      }
    },
    {
      "cell_type": "markdown",
      "source": [
        "## 2. (Optional) Validate\n",
        "\n",
        "Use the `classify/val.py` script to run validation for the model. This will show us the model's performance on each class.\n",
        "\n",
        "First, we need to download ImageNet."
      ],
      "metadata": {
        "id": "5EosQzyDCk3W"
      }
    },
    {
      "cell_type": "code",
      "source": [
        "# # WARNING: takes ~20 minutes\n",
        "# !bash data/scripts/get_imagenet.sh --val"
      ],
      "metadata": {
        "id": "HwAYptjCq-C_"
      },
      "execution_count": null,
      "outputs": []
    },
    {
      "cell_type": "code",
      "source": [
        "# # run the validation script\n",
        "# !python classify/val.py --weights ./weigths/yolov5s-cls.pt --data ../datasets/imagenet"
      ],
      "metadata": {
        "id": "CoHdKXWc8hrD"
      },
      "execution_count": null,
      "outputs": []
    },
    {
      "cell_type": "markdown",
      "source": [
        "The output shows accuracy metrics for the ImageNet validation dataset including per class accuracy."
      ],
      "metadata": {
        "id": "r2coOcIjuzCO"
      }
    },
    {
      "cell_type": "markdown",
      "source": [
        "# 3. Train On Custom Data\n",
        "\n",
        "To train on custom data, we need to prepare a dataset with custom labels.\n",
        "\n",
        "To prepare custom data, we'll use [Roboflow](https://roboflow.com). Roboflow enables easy dataset prep with your team, including labeling, formatting into the right export format, deploying, and active learning with a `pip` package. \n",
        "\n",
        "If you need custom data, there are over 66M open source images from the community on [Roboflow Universe](https://universe.roboflow.com).\n",
        "\n",
        "(For more guidance, here's a detailed blog on [training YOLOv5 classification on custom data](https://blog.roboflow.com/train-YOLOv5-classification-custom-data).)\n",
        "\n",
        "\n",
        "Create a free Roboflow account, upload your data, and label. \n",
        "\n",
        "![](https://s4.gifyu.com/images/fruit-labeling.gif)"
      ],
      "metadata": {
        "id": "9bXHHYeVDCXg"
      }
    },
    {
      "cell_type": "markdown",
      "source": [
        "### Load Custom Dataset\n",
        "\n",
        "Next, we'll export our dataset into the right directory structure for training YOLOv5 classification to load into this notebook. Select the `Export` button at the top of the version page, `Folder Structure` type, and `show download code`.\n",
        "\n",
        "The ensures all our directories are in the right format:\n",
        "\n",
        "```\n",
        "dataset\n",
        "├── train\n",
        "│   ├── class-one\n",
        "│   │   ├── IMG_123.jpg\n",
        "│   └── class-two\n",
        "│       ├── IMG_456.jpg\n",
        "├── valid\n",
        "│   ├── class-one\n",
        "│   │   ├── IMG_789.jpg\n",
        "│   └── class-two\n",
        "│       ├── IMG_101.jpg\n",
        "├── test\n",
        "│   ├── class-one\n",
        "│   │   ├── IMG_121.jpg\n",
        "│   └── class-two\n",
        "│       ├── IMG_341.jpg\n",
        "```\n",
        "\n",
        "![](https://i.imgur.com/BF9BNR8.gif)\n",
        "\n",
        "\n",
        "Copy and paste that snippet into the cell below."
      ],
      "metadata": {
        "id": "Cu6-lrukD6Hc"
      }
    },
    {
      "cell_type": "code",
      "source": [
        "# Ensure we're in the right directory to download our custom dataset\n",
        "import os\n",
        "os.makedirs(\"../datasets/\", exist_ok=True)\n",
        "%cd ../datasets/"
      ],
      "metadata": {
        "id": "6IIgJbP7G6Th",
        "colab": {
          "base_uri": "https://localhost:8080/"
        },
        "outputId": "6c139bd8-6acc-4292-d0a5-151624805274"
      },
      "execution_count": 3,
      "outputs": [
        {
          "output_type": "stream",
          "name": "stdout",
          "text": [
            "/content/datasets\n"
          ]
        }
      ]
    },
    {
      "cell_type": "code",
      "source": [
        "!pip install roboflow\n",
        "\n",
        "from roboflow import Roboflow\n",
        "rf = Roboflow(api_key=\"deO5u1tP8oXg2HyoSRT4\")\n",
        "project = rf.workspace(\"tdc\").project(\"cow-identification\")\n",
        "dataset = project.version(1).download(\"folder\")"
      ],
      "metadata": {
        "colab": {
          "base_uri": "https://localhost:8080/",
          "height": 1000
        },
        "id": "WPt92oeixtTD",
        "outputId": "0b3d9a69-2e53-442f-8d22-6db4b32577ce"
      },
      "execution_count": 4,
      "outputs": [
        {
          "output_type": "stream",
          "name": "stdout",
          "text": [
            "Looking in indexes: https://pypi.org/simple, https://us-python.pkg.dev/colab-wheels/public/simple/\n",
            "Collecting roboflow\n",
            "  Downloading roboflow-0.2.21-py3-none-any.whl (42 kB)\n",
            "\u001b[K     |████████████████████████████████| 42 kB 772 kB/s \n",
            "\u001b[?25hCollecting certifi==2021.5.30\n",
            "  Downloading certifi-2021.5.30-py2.py3-none-any.whl (145 kB)\n",
            "\u001b[K     |████████████████████████████████| 145 kB 8.3 MB/s \n",
            "\u001b[?25hCollecting wget\n",
            "  Downloading wget-3.2.zip (10 kB)\n",
            "Requirement already satisfied: matplotlib in /usr/local/lib/python3.8/dist-packages (from roboflow) (3.2.2)\n",
            "Requirement already satisfied: numpy>=1.18.5 in /usr/local/lib/python3.8/dist-packages (from roboflow) (1.21.6)\n",
            "Collecting pyparsing==2.4.7\n",
            "  Downloading pyparsing-2.4.7-py2.py3-none-any.whl (67 kB)\n",
            "\u001b[K     |████████████████████████████████| 67 kB 5.5 MB/s \n",
            "\u001b[?25hRequirement already satisfied: opencv-python-headless>=4.5.1.48 in /usr/local/lib/python3.8/dist-packages (from roboflow) (4.6.0.66)\n",
            "Requirement already satisfied: glob2 in /usr/local/lib/python3.8/dist-packages (from roboflow) (0.7)\n",
            "Collecting cycler==0.10.0\n",
            "  Downloading cycler-0.10.0-py2.py3-none-any.whl (6.5 kB)\n",
            "Collecting chardet==4.0.0\n",
            "  Downloading chardet-4.0.0-py2.py3-none-any.whl (178 kB)\n",
            "\u001b[K     |████████████████████████████████| 178 kB 58.9 MB/s \n",
            "\u001b[?25hCollecting requests-toolbelt\n",
            "  Downloading requests_toolbelt-0.10.1-py2.py3-none-any.whl (54 kB)\n",
            "\u001b[K     |████████████████████████████████| 54 kB 3.0 MB/s \n",
            "\u001b[?25hCollecting urllib3==1.26.6\n",
            "  Downloading urllib3-1.26.6-py2.py3-none-any.whl (138 kB)\n",
            "\u001b[K     |████████████████████████████████| 138 kB 50.3 MB/s \n",
            "\u001b[?25hRequirement already satisfied: Pillow>=7.1.2 in /usr/local/lib/python3.8/dist-packages (from roboflow) (7.1.2)\n",
            "Collecting python-dotenv\n",
            "  Downloading python_dotenv-0.21.0-py3-none-any.whl (18 kB)\n",
            "Requirement already satisfied: idna==2.10 in /usr/local/lib/python3.8/dist-packages (from roboflow) (2.10)\n",
            "Requirement already satisfied: kiwisolver>=1.3.1 in /usr/local/lib/python3.8/dist-packages (from roboflow) (1.4.4)\n",
            "Requirement already satisfied: python-dateutil in /usr/local/lib/python3.8/dist-packages (from roboflow) (2.8.2)\n",
            "Requirement already satisfied: requests in /usr/local/lib/python3.8/dist-packages (from roboflow) (2.23.0)\n",
            "Requirement already satisfied: PyYAML>=5.3.1 in /usr/local/lib/python3.8/dist-packages (from roboflow) (6.0)\n",
            "Requirement already satisfied: six in /usr/local/lib/python3.8/dist-packages (from roboflow) (1.15.0)\n",
            "Requirement already satisfied: tqdm>=4.41.0 in /usr/local/lib/python3.8/dist-packages (from roboflow) (4.64.1)\n",
            "Collecting requests\n",
            "  Downloading requests-2.28.1-py3-none-any.whl (62 kB)\n",
            "\u001b[K     |████████████████████████████████| 62 kB 1.4 MB/s \n",
            "\u001b[?25hRequirement already satisfied: charset-normalizer<3,>=2 in /usr/local/lib/python3.8/dist-packages (from requests->roboflow) (2.1.1)\n",
            "Building wheels for collected packages: wget\n",
            "  Building wheel for wget (setup.py) ... \u001b[?25l\u001b[?25hdone\n",
            "  Created wheel for wget: filename=wget-3.2-py3-none-any.whl size=9674 sha256=37d8391d4a7426bfc89fdaadb101052f1a35288c2ece050f1e18397768981c20\n",
            "  Stored in directory: /root/.cache/pip/wheels/bd/a8/c3/3cf2c14a1837a4e04bd98631724e81f33f462d86a1d895fae0\n",
            "Successfully built wget\n",
            "Installing collected packages: urllib3, certifi, requests, pyparsing, cycler, wget, requests-toolbelt, python-dotenv, chardet, roboflow\n",
            "  Attempting uninstall: urllib3\n",
            "    Found existing installation: urllib3 1.24.3\n",
            "    Uninstalling urllib3-1.24.3:\n",
            "      Successfully uninstalled urllib3-1.24.3\n",
            "  Attempting uninstall: certifi\n",
            "    Found existing installation: certifi 2022.12.7\n",
            "    Uninstalling certifi-2022.12.7:\n",
            "      Successfully uninstalled certifi-2022.12.7\n",
            "  Attempting uninstall: requests\n",
            "    Found existing installation: requests 2.23.0\n",
            "    Uninstalling requests-2.23.0:\n",
            "      Successfully uninstalled requests-2.23.0\n",
            "  Attempting uninstall: pyparsing\n",
            "    Found existing installation: pyparsing 3.0.9\n",
            "    Uninstalling pyparsing-3.0.9:\n",
            "      Successfully uninstalled pyparsing-3.0.9\n",
            "  Attempting uninstall: cycler\n",
            "    Found existing installation: cycler 0.11.0\n",
            "    Uninstalling cycler-0.11.0:\n",
            "      Successfully uninstalled cycler-0.11.0\n",
            "  Attempting uninstall: chardet\n",
            "    Found existing installation: chardet 3.0.4\n",
            "    Uninstalling chardet-3.0.4:\n",
            "      Successfully uninstalled chardet-3.0.4\n",
            "Successfully installed certifi-2021.5.30 chardet-4.0.0 cycler-0.10.0 pyparsing-2.4.7 python-dotenv-0.21.0 requests-2.28.1 requests-toolbelt-0.10.1 roboflow-0.2.21 urllib3-1.26.6 wget-3.2\n"
          ]
        },
        {
          "output_type": "display_data",
          "data": {
            "application/vnd.colab-display-data+json": {
              "pip_warning": {
                "packages": [
                  "certifi",
                  "chardet",
                  "cycler",
                  "pyparsing",
                  "requests",
                  "urllib3"
                ]
              }
            }
          },
          "metadata": {}
        },
        {
          "output_type": "stream",
          "name": "stdout",
          "text": [
            "loading Roboflow workspace...\n",
            "loading Roboflow project...\n",
            "Downloading Dataset Version Zip in Cow-Identification-1 to folder: 100% [619492901 / 619492901] bytes\n"
          ]
        },
        {
          "output_type": "stream",
          "name": "stderr",
          "text": [
            "Extracting Dataset Version Zip to Cow-Identification-1 in folder:: 100%|██████████| 6693/6693 [00:04<00:00, 1599.73it/s]\n"
          ]
        }
      ]
    },
    {
      "cell_type": "code",
      "source": [
        "#Save the dataset name to the environment so we can use it in a system call later\n",
        "dataset_name = dataset.location.split(os.sep)[-1]\n",
        "os.environ[\"DATASET_NAME\"] = dataset_name"
      ],
      "metadata": {
        "id": "wLQbThFICpn4"
      },
      "execution_count": 5,
      "outputs": []
    },
    {
      "cell_type": "markdown",
      "source": [
        "### Train On Custom Data 🎉\n",
        "Here, we use the DATASET_NAME environment variable to pass our dataset to the `--data` parameter.\n",
        "\n",
        "Note: we're training for 100 epochs here. We're also starting training from the pretrained weights. Larger datasets will likely benefit from longer training. "
      ],
      "metadata": {
        "id": "-5z7Yv42FGrK"
      }
    },
    {
      "cell_type": "code",
      "source": [
        "%cd ../yolov5\n",
        "!python classify/train.py --model yolov5s-cls.pt --data $DATASET_NAME --epochs 50 --img 128 --pretrained weights/last.pt"
      ],
      "metadata": {
        "id": "MXWTTN2BEaqe",
        "colab": {
          "base_uri": "https://localhost:8080/"
        },
        "outputId": "c4911c86-8438-4af5-9f24-a72fdb3c1413"
      },
      "execution_count": 6,
      "outputs": [
        {
          "output_type": "stream",
          "name": "stdout",
          "text": [
            "/content/yolov5\n",
            "\u001b[34m\u001b[1mclassify/train: \u001b[0mmodel=yolov5s-cls.pt, data=Cow-Identification-1, epochs=50, batch_size=64, imgsz=128, nosave=False, cache=None, device=, workers=8, project=runs/train-cls, name=exp, exist_ok=False, pretrained=weights/last.pt, optimizer=Adam, lr0=0.001, decay=5e-05, label_smoothing=0.1, cutoff=None, dropout=None, verbose=False, seed=0, local_rank=-1\n",
            "\u001b[34m\u001b[1mgithub: \u001b[0mup to date with https://github.com/ultralytics/yolov5 ✅\n",
            "YOLOv5 🚀 v7.0-38-g4362372 Python-3.8.16 torch-1.13.0+cu116 CPU\n",
            "\n",
            "\u001b[34m\u001b[1mTensorBoard: \u001b[0mStart with 'tensorboard --logdir runs/train-cls', view at http://localhost:6006/\n",
            "\u001b[34m\u001b[1malbumentations: \u001b[0mRandomResizedCrop(p=1.0, height=128, width=128, scale=(0.08, 1.0), ratio=(0.75, 1.3333333333333333), interpolation=1), HorizontalFlip(p=0.5), ColorJitter(p=0.5, brightness=[0.6, 1.4], contrast=[0.6, 1.4], saturation=[0.6, 1.4], hue=[0, 0]), Normalize(p=1.0, mean=(0.485, 0.456, 0.406), std=(0.229, 0.224, 0.225), max_pixel_value=255.0), ToTensorV2(always_apply=True, p=1.0, transpose_mask=False)\n",
            "Downloading https://github.com/ultralytics/yolov5/releases/download/v7.0/yolov5s-cls.pt to yolov5s-cls.pt...\n",
            "100% 10.5M/10.5M [00:00<00:00, 26.9MB/s]\n",
            "\n",
            "Model summary: 149 layers, 4513226 parameters, 4513226 gradients, 10.8 GFLOPs\n",
            "\u001b[34m\u001b[1moptimizer:\u001b[0m Adam(lr=0.001) with parameter groups 32 weight(decay=0.0), 33 weight(decay=5e-05), 33 bias\n",
            "Image sizes 128 train, 128 test\n",
            "Using 1 dataloader workers\n",
            "Logging results to \u001b[1mruns/train-cls/exp\u001b[0m\n",
            "Starting yolov5s-cls.pt training on Cow-Identification-1 dataset with 266 classes for 50 epochs...\n",
            "\n",
            "     Epoch   GPU_mem  train_loss   test_loss    top1_acc    top5_acc\n",
            "      1/50        0G        5.07        6.32           0     0.00797: 100% 85/85 [03:56<00:00,  2.78s/it]\n",
            "      2/50        0G        4.57        7.02           0      0.0159: 100% 85/85 [03:54<00:00,  2.76s/it]\n",
            "      3/50        0G        4.38        7.58           0     0.00797: 100% 85/85 [03:53<00:00,  2.75s/it]\n",
            "      4/50        0G        4.25        7.64           0       0.012: 100% 85/85 [03:58<00:00,  2.81s/it]\n",
            "      5/50        0G        4.07         8.1           0      0.0159: 100% 85/85 [03:54<00:00,  2.76s/it]\n",
            "      6/50        0G        3.91         8.4           0      0.0199: 100% 85/85 [03:56<00:00,  2.78s/it]\n",
            "      7/50        0G        3.71        8.58     0.00398      0.0279: 100% 85/85 [03:56<00:00,  2.79s/it]\n",
            "      8/50        0G        3.48         9.1           0      0.0159: 100% 85/85 [03:58<00:00,  2.80s/it]\n",
            "      9/50        0G        3.38        9.16           0       0.012: 100% 85/85 [03:57<00:00,  2.80s/it]\n",
            "     10/50        0G        3.18         9.2           0     0.00797: 100% 85/85 [03:57<00:00,  2.80s/it]\n",
            "     11/50        0G        3.04        9.91           0       0.012: 100% 85/85 [03:57<00:00,  2.79s/it]\n",
            "     12/50        0G         2.9        9.67     0.00398     0.00797: 100% 85/85 [03:57<00:00,  2.79s/it]\n",
            "     13/50        0G        2.81        9.06     0.00398      0.0319: 100% 85/85 [03:58<00:00,  2.81s/it]\n",
            "     14/50        0G        2.68        9.21           0       0.012: 100% 85/85 [03:57<00:00,  2.79s/it]\n",
            "     15/50        0G        2.59        9.49     0.00398       0.012: 100% 85/85 [03:56<00:00,  2.79s/it]\n",
            "     16/50        0G         2.5        9.33           0     0.00797: 100% 85/85 [03:56<00:00,  2.79s/it]\n",
            "     17/50        0G         2.4        9.68           0       0.012: 100% 85/85 [03:56<00:00,  2.79s/it]\n",
            "     18/50        0G        2.32        9.35           0      0.0159: 100% 85/85 [03:58<00:00,  2.81s/it]\n",
            "     19/50        0G        2.27        9.51           0     0.00797: 100% 85/85 [04:08<00:00,  2.92s/it]\n",
            "     20/50        0G        2.23        9.37     0.00398       0.012: 100% 85/85 [03:59<00:00,  2.82s/it]\n",
            "     21/50        0G        2.15        9.31           0       0.012: 100% 85/85 [03:57<00:00,  2.79s/it]\n",
            "     22/50        0G        2.12        9.38           0       0.012: 100% 85/85 [03:56<00:00,  2.79s/it]\n",
            "     23/50        0G        2.05        9.31     0.00398      0.0279: 100% 85/85 [03:55<00:00,  2.77s/it]\n",
            "     24/50        0G        1.99        9.72           0      0.0159: 100% 85/85 [03:55<00:00,  2.77s/it]\n",
            "     25/50        0G        1.99        9.56           0       0.012: 100% 85/85 [04:00<00:00,  2.83s/it]\n",
            "     26/50        0G        1.94        9.49           0      0.0159: 100% 85/85 [04:00<00:00,  2.83s/it]\n",
            "     27/50        0G         1.9        9.25     0.00398      0.0239: 100% 85/85 [04:00<00:00,  2.83s/it]\n",
            "     28/50        0G        1.91        9.47           0       0.012: 100% 85/85 [04:02<00:00,  2.85s/it]\n",
            "     29/50        0G        1.85         9.2           0      0.0159: 100% 85/85 [04:01<00:00,  2.85s/it]\n",
            "     30/50        0G         1.8        9.31           0      0.0279: 100% 85/85 [04:01<00:00,  2.84s/it]\n",
            "     31/50        0G        1.78        9.21           0      0.0199: 100% 85/85 [03:57<00:00,  2.79s/it]\n",
            "     32/50        0G        1.78         9.2     0.00398      0.0279: 100% 85/85 [03:57<00:00,  2.79s/it]\n",
            "     33/50        0G        1.74        9.37       0.012      0.0199: 100% 85/85 [03:57<00:00,  2.79s/it]\n",
            "     34/50        0G        1.71        9.15     0.00398       0.012: 100% 85/85 [04:01<00:00,  2.84s/it]\n",
            "     35/50        0G        1.68        9.29     0.00398      0.0159: 100% 85/85 [04:00<00:00,  2.83s/it]\n",
            "     36/50        0G        1.66         9.2           0      0.0159: 100% 85/85 [03:59<00:00,  2.81s/it]\n",
            "     37/50        0G        1.64        9.27           0      0.0159: 100% 85/85 [03:59<00:00,  2.82s/it]\n",
            "     38/50        0G        1.63        9.22           0      0.0159: 100% 85/85 [03:58<00:00,  2.81s/it]\n",
            "     39/50        0G        1.61        9.02     0.00797      0.0199: 100% 85/85 [03:58<00:00,  2.81s/it]\n",
            "     40/50        0G        1.58        9.19           0       0.012: 100% 85/85 [03:59<00:00,  2.82s/it]\n",
            "     41/50        0G        1.59        8.99     0.00398      0.0159: 100% 85/85 [03:58<00:00,  2.81s/it]\n",
            "     42/50        0G        1.56           9           0      0.0159: 100% 85/85 [03:58<00:00,  2.80s/it]\n",
            "     43/50        0G        1.56        8.91     0.00398      0.0199: 100% 85/85 [03:59<00:00,  2.82s/it]\n",
            "     44/50        0G        1.53        8.86     0.00398      0.0159: 100% 85/85 [03:59<00:00,  2.82s/it]\n",
            "     45/50        0G        1.53        8.77     0.00398      0.0199: 100% 85/85 [03:57<00:00,  2.79s/it]\n",
            "     46/50        0G        1.49        8.98           0      0.0159: 100% 85/85 [03:56<00:00,  2.79s/it]\n",
            "     47/50        0G        1.49        8.85     0.00398      0.0159: 100% 85/85 [03:56<00:00,  2.78s/it]\n",
            "     48/50        0G        1.48        8.73     0.00398      0.0159: 100% 85/85 [03:54<00:00,  2.76s/it]\n",
            "     49/50        0G        1.45        8.74     0.00398      0.0159: 100% 85/85 [03:56<00:00,  2.78s/it]\n",
            "     50/50        0G        1.46        8.84     0.00398      0.0199: 100% 85/85 [03:55<00:00,  2.77s/it]\n",
            "\n",
            "Training complete (3.309 hours)\n",
            "Results saved to \u001b[1mruns/train-cls/exp\u001b[0m\n",
            "Predict:         python classify/predict.py --weights runs/train-cls/exp/weights/best.pt --source im.jpg\n",
            "Validate:        python classify/val.py --weights runs/train-cls/exp/weights/best.pt --data /content/datasets/Cow-Identification-1\n",
            "Export:          python export.py --weights runs/train-cls/exp/weights/best.pt --include onnx\n",
            "PyTorch Hub:     model = torch.hub.load('ultralytics/yolov5', 'custom', 'runs/train-cls/exp/weights/best.pt')\n",
            "Visualize:       https://netron.app\n",
            "\n"
          ]
        }
      ]
    },
    {
      "cell_type": "markdown",
      "source": [
        "### Validate Your Custom Model\n",
        "\n",
        "Repeat step 2 from above to test and validate your custom model."
      ],
      "metadata": {
        "id": "HHUFGeLbGd98"
      }
    },
    {
      "cell_type": "code",
      "source": [
        "!python classify/val.py --weights runs/train-cls/exp/weights/best.pt --data ../datasets/$DATASET_NAME"
      ],
      "metadata": {
        "id": "DIV7ydyKGZFL",
        "colab": {
          "base_uri": "https://localhost:8080/"
        },
        "outputId": "f4c35f3e-f535-4ede-f69a-4b457025deb2"
      },
      "execution_count": 7,
      "outputs": [
        {
          "output_type": "stream",
          "name": "stdout",
          "text": [
            "\u001b[34m\u001b[1mclassify/val: \u001b[0mdata=../datasets/Cow-Identification-1, weights=['runs/train-cls/exp/weights/best.pt'], batch_size=128, imgsz=224, device=, workers=8, verbose=True, project=runs/val-cls, name=exp, exist_ok=False, half=False, dnn=False\n",
            "YOLOv5 🚀 v7.0-38-g4362372 Python-3.8.16 torch-1.13.0+cu116 CPU\n",
            "\n",
            "Fusing layers... \n",
            "Model summary: 117 layers, 4507434 parameters, 0 gradients, 10.6 GFLOPs\n",
            "testing: 100% 2/2 [00:13<00:00,  6.58s/it]\n",
            "                   Class      Images    top1_acc    top5_acc\n",
            "                     all         251     0.00398      0.0199\n",
            "             cattle_0100           1           0           1\n",
            "             cattle_0200           1           0           0\n",
            "             cattle_0300           1           0           0\n",
            "             cattle_0400           2           0           0\n",
            "             cattle_0500           1           0           0\n",
            "             cattle_0600           2           0           0\n",
            "             cattle_0700           1           0           0\n",
            "             cattle_0800           4           0           0\n",
            "             cattle_0900           1           0           0\n",
            "             cattle_1000           1           0           0\n",
            "             cattle_1100           3           0           0\n",
            "             cattle_1200           1           0           0\n",
            "             cattle_1300           2           0           0\n",
            "             cattle_1400           6           0           0\n",
            "             cattle_1500           8           0           0\n",
            "             cattle_1600           1           0           0\n",
            "             cattle_1700           1           0           0\n",
            "             cattle_1800           2           0           0\n",
            "             cattle_1900           2           0           0\n",
            "             cattle_2000           2           0           0\n",
            "             cattle_2100           1           0           0\n",
            "             cattle_2200           8           0           0\n",
            "             cattle_2220           2           0           0\n",
            "             cattle_2300           1           0           0\n",
            "             cattle_2320           1           0           0\n",
            "             cattle_2400           4           0           0\n",
            "             cattle_2500           2           0           0\n",
            "             cattle_2510           2           0           0\n",
            "             cattle_2600           1           0           0\n",
            "             cattle_2700           1           0           0\n",
            "             cattle_2710           2           0           0\n",
            "             cattle_2740           2           0           0\n",
            "             cattle_2800           1           0           0\n",
            "             cattle_2900           1           0           0\n",
            "             cattle_2930           1           0           0\n",
            "             cattle_3000           2           0         0.5\n",
            "             cattle_3100           1           0           0\n",
            "             cattle_3200           1           0           0\n",
            "             cattle_3300           2           0           0\n",
            "             cattle_3400           2           0           0\n",
            "             cattle_3420           1           0           0\n",
            "             cattle_3802           1           0           0\n",
            "             cattle_3812           8           0           0\n",
            "             cattle_3814           2           0           0\n",
            "             cattle_3819           2           0           0\n",
            "             cattle_3832           1           0           0\n",
            "             cattle_3842           3           0           0\n",
            "             cattle_3844           1           0           0\n",
            "             cattle_3847           1           0           0\n",
            "             cattle_3852           3           0           0\n",
            "             cattle_3856           4           0           0\n",
            "             cattle_4208           1           0           0\n",
            "             cattle_4259           5           0           0\n",
            "             cattle_4323           1           0           0\n",
            "             cattle_4326           1           0           0\n",
            "             cattle_4330           1           0           0\n",
            "             cattle_4339           1           0           0\n",
            "             cattle_4347           1           0           0\n",
            "             cattle_4363           1           0           0\n",
            "             cattle_4369           1           0           0\n",
            "             cattle_4381           1           0           0\n",
            "             cattle_4385           1           0           0\n",
            "             cattle_4399           2           0           0\n",
            "             cattle_4421           2           0         0.5\n",
            "             cattle_4422          10           0           0\n",
            "             cattle_4451           1           0           0\n",
            "             cattle_4454           2           0           0\n",
            "             cattle_4456           2           0           0\n",
            "             cattle_4479           1           0           0\n",
            "             cattle_4488           1           0           0\n",
            "             cattle_4499           2           0           0\n",
            "             cattle_4537           2           0           0\n",
            "             cattle_4539           2           0           0\n",
            "             cattle_4545           1           0           1\n",
            "             cattle_4549           4           0           0\n",
            "             cattle_4551           1           0           0\n",
            "             cattle_4568           4           0           0\n",
            "             cattle_4607           7           0           0\n",
            "             cattle_4613           1           0           0\n",
            "             cattle_4614           1           0           0\n",
            "             cattle_4649           1           0           0\n",
            "             cattle_4668           2           0           0\n",
            "             cattle_4678           2           0           0\n",
            "             cattle_4679           1           0           0\n",
            "             cattle_4680           5           0           0\n",
            "             cattle_4685           6           0           0\n",
            "             cattle_4686           1           0           0\n",
            "             cattle_4716           2           0           0\n",
            "             cattle_4717           1           0           0\n",
            "             cattle_4733           3           0           0\n",
            "             cattle_4739           1           0           0\n",
            "             cattle_4748           1           0           0\n",
            "             cattle_4770           2           0           0\n",
            "             cattle_4775           1           0           0\n",
            "             cattle_4776           1           0           0\n",
            "             cattle_4804           6           0           0\n",
            "             cattle_4819           1           0           0\n",
            "             cattle_4820           3           0           0\n",
            "             cattle_4833           1           0           0\n",
            "             cattle_4839           1           0           0\n",
            "             cattle_4840           1           0           0\n",
            "             cattle_4895           2           0           0\n",
            "             cattle_4915           1           0           0\n",
            "             cattle_4921           1           0           0\n",
            "             cattle_4947           4           0           0\n",
            "             cattle_4951           1           1           1\n",
            "             cattle_4969           6           0           0\n",
            "             cattle_4971           4           0           0\n",
            "             cattle_4984           1           0           0\n",
            "             cattle_4985           1           0           0\n",
            "             cattle_4986           1           0           0\n",
            "             cattle_4995           1           0           0\n",
            "             cattle_5009           5           0           0\n",
            "             cattle_5026           1           0           0\n",
            "             cattle_5028           1           0           0\n",
            "             cattle_5066           1           0           0\n",
            "             cattle_5073           1           0           0\n",
            "             cattle_5077           1           0           0\n",
            "             cattle_5083           1           0           0\n",
            "             cattle_5090           3           0           0\n",
            "             cattle_5097           1           0           0\n",
            "             cattle_5100           1           0           0\n",
            "             cattle_5112           0         nan         nan\n",
            "             cattle_5132           0         nan         nan\n",
            "             cattle_5133           0         nan         nan\n",
            "             cattle_5138           0         nan         nan\n",
            "             cattle_5143           0         nan         nan\n",
            "             cattle_5153           0         nan         nan\n",
            "             cattle_5164           0         nan         nan\n",
            "             cattle_5165           0         nan         nan\n",
            "             cattle_5170           0         nan         nan\n",
            "             cattle_5171           0         nan         nan\n",
            "             cattle_5197           0         nan         nan\n",
            "             cattle_5207           0         nan         nan\n",
            "             cattle_5208           0         nan         nan\n",
            "             cattle_5215           0         nan         nan\n",
            "             cattle_5224           0         nan         nan\n",
            "             cattle_5234           0         nan         nan\n",
            "             cattle_5235           0         nan         nan\n",
            "             cattle_5249           0         nan         nan\n",
            "             cattle_5273           0         nan         nan\n",
            "             cattle_5275           0         nan         nan\n",
            "             cattle_5282           0         nan         nan\n",
            "             cattle_5283           0         nan         nan\n",
            "             cattle_5297           0         nan         nan\n",
            "             cattle_5298           0         nan         nan\n",
            "             cattle_5307           0         nan         nan\n",
            "             cattle_5314           0         nan         nan\n",
            "             cattle_5325           0         nan         nan\n",
            "             cattle_5355           0         nan         nan\n",
            "             cattle_5359           0         nan         nan\n",
            "             cattle_5360           0         nan         nan\n",
            "             cattle_5362           0         nan         nan\n",
            "             cattle_5373           0         nan         nan\n",
            "             cattle_5374           0         nan         nan\n",
            "             cattle_5403           0         nan         nan\n",
            "             cattle_5404           0         nan         nan\n",
            "             cattle_5407           0         nan         nan\n",
            "             cattle_5408           0         nan         nan\n",
            "             cattle_5410           0         nan         nan\n",
            "             cattle_5411           0         nan         nan\n",
            "             cattle_5425           0         nan         nan\n",
            "             cattle_5427           0         nan         nan\n",
            "             cattle_5432           0         nan         nan\n",
            "             cattle_5477           0         nan         nan\n",
            "             cattle_5507           0         nan         nan\n",
            "             cattle_5508           0         nan         nan\n",
            "             cattle_5509           0         nan         nan\n",
            "             cattle_5519           0         nan         nan\n",
            "             cattle_5529           0         nan         nan\n",
            "             cattle_5537           0         nan         nan\n",
            "             cattle_5556           0         nan         nan\n",
            "             cattle_5559           0         nan         nan\n",
            "             cattle_5581           0         nan         nan\n",
            "             cattle_5604           0         nan         nan\n",
            "             cattle_5605           0         nan         nan\n",
            "             cattle_5620           0         nan         nan\n",
            "             cattle_5630           0         nan         nan\n",
            "             cattle_5633           0         nan         nan\n",
            "             cattle_5634           0         nan         nan\n",
            "             cattle_5639           0         nan         nan\n",
            "             cattle_5654           0         nan         nan\n",
            "             cattle_5658           0         nan         nan\n",
            "             cattle_5670           0         nan         nan\n",
            "             cattle_5677           0         nan         nan\n",
            "             cattle_5695           0         nan         nan\n",
            "             cattle_5697           0         nan         nan\n",
            "             cattle_5717           0         nan         nan\n",
            "             cattle_5745           0         nan         nan\n",
            "             cattle_5761           0         nan         nan\n",
            "             cattle_5774           0         nan         nan\n",
            "             cattle_5777           0         nan         nan\n",
            "             cattle_5781           0         nan         nan\n",
            "             cattle_5784           0         nan         nan\n",
            "             cattle_5803           0         nan         nan\n",
            "             cattle_5804           0         nan         nan\n",
            "             cattle_5806           0         nan         nan\n",
            "             cattle_5809           0         nan         nan\n",
            "             cattle_5815           0         nan         nan\n",
            "             cattle_5816           0         nan         nan\n",
            "             cattle_5836           0         nan         nan\n",
            "             cattle_5844           0         nan         nan\n",
            "             cattle_5886           0         nan         nan\n",
            "             cattle_5925           0         nan         nan\n",
            "             cattle_5932           0         nan         nan\n",
            "             cattle_5953           0         nan         nan\n",
            "             cattle_5971           0         nan         nan\n",
            "             cattle_5986           0         nan         nan\n",
            "             cattle_6011           0         nan         nan\n",
            "             cattle_6012           0         nan         nan\n",
            "             cattle_6017           0         nan         nan\n",
            "             cattle_6022           0         nan         nan\n",
            "             cattle_6038           0         nan         nan\n",
            "             cattle_6066           0         nan         nan\n",
            "             cattle_6071           0         nan         nan\n",
            "             cattle_6084           0         nan         nan\n",
            "             cattle_6098           0         nan         nan\n",
            "             cattle_6124           0         nan         nan\n",
            "             cattle_6161           0         nan         nan\n",
            "             cattle_6167           0         nan         nan\n",
            "             cattle_6171           0         nan         nan\n",
            "             cattle_6184           0         nan         nan\n",
            "             cattle_6189           0         nan         nan\n",
            "             cattle_6191           0         nan         nan\n",
            "             cattle_6196           0         nan         nan\n",
            "             cattle_6197           0         nan         nan\n",
            "             cattle_6199           0         nan         nan\n",
            "             cattle_6210           0         nan         nan\n",
            "             cattle_6213           0         nan         nan\n",
            "             cattle_6216           0         nan         nan\n",
            "             cattle_6220           0         nan         nan\n",
            "             cattle_6226           0         nan         nan\n",
            "             cattle_6237           0         nan         nan\n",
            "             cattle_6266           0         nan         nan\n",
            "             cattle_6276           0         nan         nan\n",
            "             cattle_6277           0         nan         nan\n",
            "             cattle_6278           0         nan         nan\n",
            "             cattle_6282           0         nan         nan\n",
            "             cattle_6283           0         nan         nan\n",
            "             cattle_6287           0         nan         nan\n",
            "             cattle_6294           0         nan         nan\n",
            "             cattle_6295           0         nan         nan\n",
            "             cattle_6313           0         nan         nan\n",
            "             cattle_6331           0         nan         nan\n",
            "             cattle_6333           0         nan         nan\n",
            "             cattle_6442           0         nan         nan\n",
            "             cattle_6446           0         nan         nan\n",
            "             cattle_6458           0         nan         nan\n",
            "             cattle_6479           0         nan         nan\n",
            "             cattle_6499           0         nan         nan\n",
            "             cattle_6505           0         nan         nan\n",
            "             cattle_6506           0         nan         nan\n",
            "             cattle_6530           0         nan         nan\n",
            "             cattle_6606           0         nan         nan\n",
            "             cattle_8050           0         nan         nan\n",
            "             cattle_8094           0         nan         nan\n",
            "             cattle_8095           0         nan         nan\n",
            "             cattle_9021           0         nan         nan\n",
            "             cattle_9029           0         nan         nan\n",
            "             cattle_9634           0         nan         nan\n",
            "             cattle_9635           0         nan         nan\n",
            "             cattle_9736           0         nan         nan\n",
            "             cattle_9742           0         nan         nan\n",
            "             cattle_9773           0         nan         nan\n",
            "             cattle_9798           0         nan         nan\n",
            "             cattle_9801           0         nan         nan\n",
            "Speed: 0.0ms pre-process, 45.1ms inference, 0.0ms post-process per image at shape (1, 3, 224, 224)\n",
            "Results saved to \u001b[1mruns/val-cls/exp\u001b[0m\n"
          ]
        }
      ]
    },
    {
      "cell_type": "markdown",
      "source": [
        "### Infer With Your Custom Model"
      ],
      "metadata": {
        "id": "uH5tJNpEsi6g"
      }
    },
    {
      "cell_type": "code",
      "source": [
        "#Get the path of an image from the test or validation set\n",
        "if os.path.exists(os.path.join(dataset.location, \"test\")):\n",
        "  split_path = os.path.join(dataset.location, \"test\")\n",
        "else:\n",
        "  os.path.join(dataset.location, \"valid\")\n",
        "example_class = os.listdir(split_path)[0]\n",
        "example_image_name = os.listdir(os.path.join(split_path, example_class))[0]\n",
        "example_image_path = os.path.join(split_path, example_class, example_image_name)\n",
        "os.environ[\"TEST_IMAGE_PATH\"] = example_image_path\n",
        "\n",
        "print(f\"Inferring on an example of the class '{example_class}'\")\n",
        "\n",
        "#Infer\n",
        "!python classify/predict.py --weights runs/train-cls/exp/weights/best.pt --source /content/datasets/Cow-Identification-1/test/cattle_4347/cattle_4347_DSCF1397_jpg.rf.a67d201bf8b20ff99d667d7afb991eab.jpg"
      ],
      "metadata": {
        "id": "81lK1hU_sk54",
        "colab": {
          "base_uri": "https://localhost:8080/"
        },
        "outputId": "a37ac440-adc9-4a8a-ecce-13b7e5da621e"
      },
      "execution_count": 15,
      "outputs": [
        {
          "output_type": "stream",
          "name": "stdout",
          "text": [
            "Inferring on an example of the class 'cattle_1700'\n",
            "\u001b[34m\u001b[1mclassify/predict: \u001b[0mweights=['runs/train-cls/exp/weights/best.pt'], source=/content/datasets/Cow-Identification-1/test/cattle_4347/cattle_4347_DSCF1397_jpg.rf.a67d201bf8b20ff99d667d7afb991eab.jpg, data=data/coco128.yaml, imgsz=[224, 224], device=, view_img=False, save_txt=False, nosave=False, augment=False, visualize=False, update=False, project=runs/predict-cls, name=exp, exist_ok=False, half=False, dnn=False, vid_stride=1\n",
            "YOLOv5 🚀 v7.0-38-g4362372 Python-3.8.16 torch-1.13.0+cu116 CPU\n",
            "\n",
            "Fusing layers... \n",
            "Model summary: 117 layers, 4507434 parameters, 0 gradients, 10.6 GFLOPs\n",
            "image 1/1 /content/datasets/Cow-Identification-1/test/cattle_4347/cattle_4347_DSCF1397_jpg.rf.a67d201bf8b20ff99d667d7afb991eab.jpg: 224x224 cattle_4347 0.39, cattle_5425 0.08, cattle_4363 0.05, cattle_4679 0.04, cattle_5404 0.03, 44.8ms\n",
            "Speed: 0.1ms pre-process, 44.8ms inference, 0.1ms NMS per image at shape (1, 3, 224, 224)\n",
            "Results saved to \u001b[1mruns/predict-cls/exp3\u001b[0m\n"
          ]
        }
      ]
    },
    {
      "cell_type": "markdown",
      "source": [
        "We can see the inference results show ~3ms inference and the respective classes predicted probabilities."
      ],
      "metadata": {
        "id": "DdGuG-1kNjWT"
      }
    },
    {
      "cell_type": "markdown",
      "source": [
        "## (OPTIONAL) Improve Our Model with Active Learning\n",
        "\n",
        "Now that we've trained our model once, we will want to continue to improve its performance. Improvement is largely dependent on improving our dataset.\n",
        "\n",
        "We can programmatically upload example failure images back to our custom dataset based on conditions (like seeing an underrpresented class or a low confidence score) using the same `pip` package."
      ],
      "metadata": {
        "id": "I38IM6NXKNN9"
      }
    },
    {
      "cell_type": "code",
      "source": [
        "# # Upload example image\n",
        "# project.upload(image_path)\n"
      ],
      "metadata": {
        "id": "HycgSEnYKo0J"
      },
      "execution_count": null,
      "outputs": []
    },
    {
      "cell_type": "code",
      "source": [
        "# # Example upload code \n",
        "# min_conf = float(\"inf\")\n",
        "# for pred in results:\n",
        "#     if pred[\"score\"] < min_conf:\n",
        "#         min_conf = pred[\"score\"]\n",
        "# if min_conf < 0.4:\n",
        "#     project.upload(image_path)"
      ],
      "metadata": {
        "id": "VwXDoz_vLK3V"
      },
      "execution_count": null,
      "outputs": []
    },
    {
      "cell_type": "markdown",
      "source": [
        "# (BONUS) YOLOv5 classify/predict.py Accepts Several Input Methods\n",
        "- Webcam: `python classify/predict.py --weights yolov5s-cls.pt --source 0`\n",
        "- Image `python classify/predict.py --weights yolov5s-cls.pt --source img.jpg`\n",
        "- Video: `python classify/predict.py --weights yolov5s-cls.pt --source vid.mp4`\n",
        "- Directory: `python classify/predict.py --weights yolov5s-cls.pt --source path/`\n",
        "- Glob: `python classify/predict.py --weights yolov5s-cls.pt --source 'path/*.jpg'`\n",
        "- YouTube: `python classify/predict.py --weights yolov5s-cls.pt --source 'https://youtu.be/Zgi9g1ksQHc'`\n",
        "- RTSP, RTMP, HTTP stream: `python classify/predict.py --weights yolov5s-cls.pt --source 'rtsp://example.com/media.mp4'`"
      ],
      "metadata": {
        "id": "aYlfaHDusN-j"
      }
    },
    {
      "cell_type": "markdown",
      "source": [
        "###Directory Example"
      ],
      "metadata": {
        "id": "iKSP-SNTvcLJ"
      }
    },
    {
      "cell_type": "code",
      "source": [
        "#Directory infer\n",
        "os.environ[\"TEST_CLASS_PATH\"] = test_class_path = os.path.join(*os.environ[\"TEST_IMAGE_PATH\"].split(os.sep)[:-1])\n",
        "print(f\"Infering on all images from the directory {os.environ['TEST_CLASS_PATH']}\")\n",
        "!python classify/predict.py --weights runs/train-cls/exp/weights/best.pt --source /$TEST_CLASS_PATH/"
      ],
      "metadata": {
        "id": "lwSoHcHcvjeD"
      },
      "execution_count": null,
      "outputs": []
    },
    {
      "cell_type": "markdown",
      "source": [
        "###YouTube Example"
      ],
      "metadata": {
        "id": "kCCao9t8se8i"
      }
    },
    {
      "cell_type": "code",
      "source": [
        "#YouTube infer\n",
        "!python classify/predict.py --weights runs/train-cls/exp/weights/best.pt --source 'https://www.youtube.com/watch?v=7AlYA4ItA74'"
      ],
      "metadata": {
        "id": "heebjpJBsakV"
      },
      "execution_count": null,
      "outputs": []
    }
  ]
}